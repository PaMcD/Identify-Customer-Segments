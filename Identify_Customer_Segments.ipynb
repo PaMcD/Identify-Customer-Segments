{
 "cells": [
  {
   "cell_type": "markdown",
   "metadata": {},
   "source": [
    "# Project: Identify Customer Segments\n",
    "\n",
    "In this project, you will apply unsupervised learning techniques to identify segments of the population that form the core customer base for a mail-order sales company in Germany. These segments can then be used to direct marketing campaigns towards audiences that will have the highest expected rate of returns. The data that you will use has been provided by our partners at Bertelsmann Arvato Analytics, and represents a real-life data science task.\n",
    "\n",
    "This notebook will help you complete this task by providing a framework within which you will perform your analysis steps. In each step of the project, you will see some text describing the subtask that you will perform, followed by one or more code cells for you to complete your work. **Feel free to add additional code and markdown cells as you go along so that you can explore everything in precise chunks.** The code cells provided in the base template will outline only the major tasks, and will usually not be enough to cover all of the minor tasks that comprise it.\n",
    "\n",
    "It should be noted that while there will be precise guidelines on how you should handle certain tasks in the project, there will also be places where an exact specification is not provided. **There will be times in the project where you will need to make and justify your own decisions on how to treat the data.** These are places where there may not be only one way to handle the data. In real-life tasks, there may be many valid ways to approach an analysis task. One of the most important things you can do is clearly document your approach so that other scientists can understand the decisions you've made.\n",
    "\n",
    "At the end of most sections, there will be a Markdown cell labeled **Discussion**. In these cells, you will report your findings for the completed section, as well as document the decisions that you made in your approach to each subtask. **Your project will be evaluated not just on the code used to complete the tasks outlined, but also your communication about your observations and conclusions at each stage.**"
   ]
  },
  {
   "cell_type": "code",
   "execution_count": 1,
   "metadata": {},
   "outputs": [
    {
     "data": {
      "text/plain": [
       "'\\nImport note: The classroom currently uses sklearn version 0.19.\\nIf you need to use an imputer, it is available in sklearn.preprocessing.Imputer,\\ninstead of sklearn.impute as in newer versions of sklearn.\\n'"
      ]
     },
     "execution_count": 1,
     "metadata": {},
     "output_type": "execute_result"
    }
   ],
   "source": [
    "# import libraries here; add more as necessary\n",
    "import numpy as np\n",
    "import pandas as pd\n",
    "from matplotlib import pyplot as plt\n",
    "import seaborn as sns\n",
    "from itertools import permutations\n",
    "from pandas.api.types import is_numeric_dtype\n",
    "\n",
    "from sklearn.preprocessing import OneHotEncoder, LabelEncoder, LabelBinarizer, StandardScaler\n",
    "from sklearn.decomposition import PCA\n",
    "from sklearn.cluster import KMeans\n",
    "# import tdqm\n",
    "\n",
    "# magic word for producing visualizations in notebook\n",
    "%matplotlib inline\n",
    "\n",
    "# allow autocomplete for easier typing\n",
    "%config IPCompleter.greedy=True\n",
    "\n",
    "'''\n",
    "Import note: The classroom currently uses sklearn version 0.19.\n",
    "If you need to use an imputer, it is available in sklearn.preprocessing.Imputer,\n",
    "instead of sklearn.impute as in newer versions of sklearn.\n",
    "'''"
   ]
  },
  {
   "cell_type": "markdown",
   "metadata": {},
   "source": [
    "### Step 0: Load the Data\n",
    "\n",
    "There are four files associated with this project (not including this one):\n",
    "\n",
    "- `Udacity_AZDIAS_Subset.csv`: Demographics data for the general population of Germany; 891211 persons (rows) x 85 features (columns).\n",
    "- `Udacity_CUSTOMERS_Subset.csv`: Demographics data for customers of a mail-order company; 191652 persons (rows) x 85 features (columns).\n",
    "- `Data_Dictionary.md`: Detailed information file about the features in the provided datasets.\n",
    "- `AZDIAS_Feature_Summary.csv`: Summary of feature attributes for demographics data; 85 features (rows) x 4 columns\n",
    "\n",
    "Each row of the demographics files represents a single person, but also includes information outside of individuals, including information about their household, building, and neighborhood. You will use this information to cluster the general population into groups with similar demographic properties. Then, you will see how the people in the customers dataset fit into those created clusters. The hope here is that certain clusters are over-represented in the customers data, as compared to the general population; those over-represented clusters will be assumed to be part of the core userbase. This information can then be used for further applications, such as targeting for a marketing campaign.\n",
    "\n",
    "To start off with, load in the demographics data for the general population into a pandas DataFrame, and do the same for the feature attributes summary. Note for all of the `.csv` data files in this project: they're semicolon (`;`) delimited, so you'll need an additional argument in your [`read_csv()`](https://pandas.pydata.org/pandas-docs/stable/generated/pandas.read_csv.html) call to read in the data properly. Also, considering the size of the main dataset, it may take some time for it to load completely.\n",
    "\n",
    "Once the dataset is loaded, it's recommended that you take a little bit of time just browsing the general structure of the dataset and feature summary file. You'll be getting deep into the innards of the cleaning in the first major step of the project, so gaining some general familiarity can help you get your bearings."
   ]
  },
  {
   "cell_type": "code",
   "execution_count": 2,
   "metadata": {},
   "outputs": [],
   "source": [
    "# Load in the general demographics data.\n",
    "azdias = pd.read_csv(\"Udacity_AZDIAS_Subset.csv\", sep=\";\")\n",
    "\n",
    "# Load in the feature summary file.\n",
    "feat_info = pd.read_csv(\"AZDIAS_Feature_Summary.csv\", sep=\";\")"
   ]
  },
  {
   "cell_type": "code",
   "execution_count": 3,
   "metadata": {},
   "outputs": [
    {
     "data": {
      "text/plain": [
       "(891221, 85)"
      ]
     },
     "execution_count": 3,
     "metadata": {},
     "output_type": "execute_result"
    }
   ],
   "source": [
    "# Check the structure of the data after it's loaded (e.g. print the number of\n",
    "# rows and columns, print the first few rows).\n",
    "azdias.shape"
   ]
  },
  {
   "cell_type": "code",
   "execution_count": 4,
   "metadata": {},
   "outputs": [
    {
     "data": {
      "text/plain": [
       "(85, 4)"
      ]
     },
     "execution_count": 4,
     "metadata": {},
     "output_type": "execute_result"
    }
   ],
   "source": [
    "feat_info.shape"
   ]
  },
  {
   "cell_type": "code",
   "execution_count": 5,
   "metadata": {},
   "outputs": [
    {
     "data": {
      "text/html": [
       "<div>\n",
       "<style scoped>\n",
       "    .dataframe tbody tr th:only-of-type {\n",
       "        vertical-align: middle;\n",
       "    }\n",
       "\n",
       "    .dataframe tbody tr th {\n",
       "        vertical-align: top;\n",
       "    }\n",
       "\n",
       "    .dataframe thead th {\n",
       "        text-align: right;\n",
       "    }\n",
       "</style>\n",
       "<table border=\"1\" class=\"dataframe\">\n",
       "  <thead>\n",
       "    <tr style=\"text-align: right;\">\n",
       "      <th></th>\n",
       "      <th>AGER_TYP</th>\n",
       "      <th>ALTERSKATEGORIE_GROB</th>\n",
       "      <th>ANREDE_KZ</th>\n",
       "      <th>CJT_GESAMTTYP</th>\n",
       "      <th>FINANZ_MINIMALIST</th>\n",
       "      <th>FINANZ_SPARER</th>\n",
       "      <th>FINANZ_VORSORGER</th>\n",
       "      <th>FINANZ_ANLEGER</th>\n",
       "      <th>FINANZ_UNAUFFAELLIGER</th>\n",
       "      <th>FINANZ_HAUSBAUER</th>\n",
       "      <th>...</th>\n",
       "      <th>PLZ8_ANTG1</th>\n",
       "      <th>PLZ8_ANTG2</th>\n",
       "      <th>PLZ8_ANTG3</th>\n",
       "      <th>PLZ8_ANTG4</th>\n",
       "      <th>PLZ8_BAUMAX</th>\n",
       "      <th>PLZ8_HHZ</th>\n",
       "      <th>PLZ8_GBZ</th>\n",
       "      <th>ARBEIT</th>\n",
       "      <th>ORTSGR_KLS9</th>\n",
       "      <th>RELAT_AB</th>\n",
       "    </tr>\n",
       "  </thead>\n",
       "  <tbody>\n",
       "    <tr>\n",
       "      <th>0</th>\n",
       "      <td>-1</td>\n",
       "      <td>2</td>\n",
       "      <td>1</td>\n",
       "      <td>2.0</td>\n",
       "      <td>3</td>\n",
       "      <td>4</td>\n",
       "      <td>3</td>\n",
       "      <td>5</td>\n",
       "      <td>5</td>\n",
       "      <td>3</td>\n",
       "      <td>...</td>\n",
       "      <td>NaN</td>\n",
       "      <td>NaN</td>\n",
       "      <td>NaN</td>\n",
       "      <td>NaN</td>\n",
       "      <td>NaN</td>\n",
       "      <td>NaN</td>\n",
       "      <td>NaN</td>\n",
       "      <td>NaN</td>\n",
       "      <td>NaN</td>\n",
       "      <td>NaN</td>\n",
       "    </tr>\n",
       "    <tr>\n",
       "      <th>1</th>\n",
       "      <td>-1</td>\n",
       "      <td>1</td>\n",
       "      <td>2</td>\n",
       "      <td>5.0</td>\n",
       "      <td>1</td>\n",
       "      <td>5</td>\n",
       "      <td>2</td>\n",
       "      <td>5</td>\n",
       "      <td>4</td>\n",
       "      <td>5</td>\n",
       "      <td>...</td>\n",
       "      <td>2.0</td>\n",
       "      <td>3.0</td>\n",
       "      <td>2.0</td>\n",
       "      <td>1.0</td>\n",
       "      <td>1.0</td>\n",
       "      <td>5.0</td>\n",
       "      <td>4.0</td>\n",
       "      <td>3.0</td>\n",
       "      <td>5.0</td>\n",
       "      <td>4.0</td>\n",
       "    </tr>\n",
       "    <tr>\n",
       "      <th>2</th>\n",
       "      <td>-1</td>\n",
       "      <td>3</td>\n",
       "      <td>2</td>\n",
       "      <td>3.0</td>\n",
       "      <td>1</td>\n",
       "      <td>4</td>\n",
       "      <td>1</td>\n",
       "      <td>2</td>\n",
       "      <td>3</td>\n",
       "      <td>5</td>\n",
       "      <td>...</td>\n",
       "      <td>3.0</td>\n",
       "      <td>3.0</td>\n",
       "      <td>1.0</td>\n",
       "      <td>0.0</td>\n",
       "      <td>1.0</td>\n",
       "      <td>4.0</td>\n",
       "      <td>4.0</td>\n",
       "      <td>3.0</td>\n",
       "      <td>5.0</td>\n",
       "      <td>2.0</td>\n",
       "    </tr>\n",
       "    <tr>\n",
       "      <th>3</th>\n",
       "      <td>2</td>\n",
       "      <td>4</td>\n",
       "      <td>2</td>\n",
       "      <td>2.0</td>\n",
       "      <td>4</td>\n",
       "      <td>2</td>\n",
       "      <td>5</td>\n",
       "      <td>2</td>\n",
       "      <td>1</td>\n",
       "      <td>2</td>\n",
       "      <td>...</td>\n",
       "      <td>2.0</td>\n",
       "      <td>2.0</td>\n",
       "      <td>2.0</td>\n",
       "      <td>0.0</td>\n",
       "      <td>1.0</td>\n",
       "      <td>3.0</td>\n",
       "      <td>4.0</td>\n",
       "      <td>2.0</td>\n",
       "      <td>3.0</td>\n",
       "      <td>3.0</td>\n",
       "    </tr>\n",
       "    <tr>\n",
       "      <th>4</th>\n",
       "      <td>-1</td>\n",
       "      <td>3</td>\n",
       "      <td>1</td>\n",
       "      <td>5.0</td>\n",
       "      <td>4</td>\n",
       "      <td>3</td>\n",
       "      <td>4</td>\n",
       "      <td>1</td>\n",
       "      <td>3</td>\n",
       "      <td>2</td>\n",
       "      <td>...</td>\n",
       "      <td>2.0</td>\n",
       "      <td>4.0</td>\n",
       "      <td>2.0</td>\n",
       "      <td>1.0</td>\n",
       "      <td>2.0</td>\n",
       "      <td>3.0</td>\n",
       "      <td>3.0</td>\n",
       "      <td>4.0</td>\n",
       "      <td>6.0</td>\n",
       "      <td>5.0</td>\n",
       "    </tr>\n",
       "  </tbody>\n",
       "</table>\n",
       "<p>5 rows × 85 columns</p>\n",
       "</div>"
      ],
      "text/plain": [
       "   AGER_TYP  ALTERSKATEGORIE_GROB  ANREDE_KZ  CJT_GESAMTTYP  \\\n",
       "0        -1                     2          1            2.0   \n",
       "1        -1                     1          2            5.0   \n",
       "2        -1                     3          2            3.0   \n",
       "3         2                     4          2            2.0   \n",
       "4        -1                     3          1            5.0   \n",
       "\n",
       "   FINANZ_MINIMALIST  FINANZ_SPARER  FINANZ_VORSORGER  FINANZ_ANLEGER  \\\n",
       "0                  3              4                 3               5   \n",
       "1                  1              5                 2               5   \n",
       "2                  1              4                 1               2   \n",
       "3                  4              2                 5               2   \n",
       "4                  4              3                 4               1   \n",
       "\n",
       "   FINANZ_UNAUFFAELLIGER  FINANZ_HAUSBAUER    ...     PLZ8_ANTG1  PLZ8_ANTG2  \\\n",
       "0                      5                 3    ...            NaN         NaN   \n",
       "1                      4                 5    ...            2.0         3.0   \n",
       "2                      3                 5    ...            3.0         3.0   \n",
       "3                      1                 2    ...            2.0         2.0   \n",
       "4                      3                 2    ...            2.0         4.0   \n",
       "\n",
       "   PLZ8_ANTG3  PLZ8_ANTG4  PLZ8_BAUMAX  PLZ8_HHZ  PLZ8_GBZ  ARBEIT  \\\n",
       "0         NaN         NaN          NaN       NaN       NaN     NaN   \n",
       "1         2.0         1.0          1.0       5.0       4.0     3.0   \n",
       "2         1.0         0.0          1.0       4.0       4.0     3.0   \n",
       "3         2.0         0.0          1.0       3.0       4.0     2.0   \n",
       "4         2.0         1.0          2.0       3.0       3.0     4.0   \n",
       "\n",
       "   ORTSGR_KLS9  RELAT_AB  \n",
       "0          NaN       NaN  \n",
       "1          5.0       4.0  \n",
       "2          5.0       2.0  \n",
       "3          3.0       3.0  \n",
       "4          6.0       5.0  \n",
       "\n",
       "[5 rows x 85 columns]"
      ]
     },
     "execution_count": 5,
     "metadata": {},
     "output_type": "execute_result"
    }
   ],
   "source": [
    "azdias.head()"
   ]
  },
  {
   "cell_type": "code",
   "execution_count": 6,
   "metadata": {},
   "outputs": [
    {
     "data": {
      "text/html": [
       "<div>\n",
       "<style scoped>\n",
       "    .dataframe tbody tr th:only-of-type {\n",
       "        vertical-align: middle;\n",
       "    }\n",
       "\n",
       "    .dataframe tbody tr th {\n",
       "        vertical-align: top;\n",
       "    }\n",
       "\n",
       "    .dataframe thead th {\n",
       "        text-align: right;\n",
       "    }\n",
       "</style>\n",
       "<table border=\"1\" class=\"dataframe\">\n",
       "  <thead>\n",
       "    <tr style=\"text-align: right;\">\n",
       "      <th></th>\n",
       "      <th>attribute</th>\n",
       "      <th>information_level</th>\n",
       "      <th>type</th>\n",
       "      <th>missing_or_unknown</th>\n",
       "    </tr>\n",
       "  </thead>\n",
       "  <tbody>\n",
       "    <tr>\n",
       "      <th>0</th>\n",
       "      <td>AGER_TYP</td>\n",
       "      <td>person</td>\n",
       "      <td>categorical</td>\n",
       "      <td>[-1,0]</td>\n",
       "    </tr>\n",
       "    <tr>\n",
       "      <th>1</th>\n",
       "      <td>ALTERSKATEGORIE_GROB</td>\n",
       "      <td>person</td>\n",
       "      <td>ordinal</td>\n",
       "      <td>[-1,0,9]</td>\n",
       "    </tr>\n",
       "    <tr>\n",
       "      <th>2</th>\n",
       "      <td>ANREDE_KZ</td>\n",
       "      <td>person</td>\n",
       "      <td>categorical</td>\n",
       "      <td>[-1,0]</td>\n",
       "    </tr>\n",
       "    <tr>\n",
       "      <th>3</th>\n",
       "      <td>CJT_GESAMTTYP</td>\n",
       "      <td>person</td>\n",
       "      <td>categorical</td>\n",
       "      <td>[0]</td>\n",
       "    </tr>\n",
       "    <tr>\n",
       "      <th>4</th>\n",
       "      <td>FINANZ_MINIMALIST</td>\n",
       "      <td>person</td>\n",
       "      <td>ordinal</td>\n",
       "      <td>[-1]</td>\n",
       "    </tr>\n",
       "  </tbody>\n",
       "</table>\n",
       "</div>"
      ],
      "text/plain": [
       "              attribute information_level         type missing_or_unknown\n",
       "0              AGER_TYP            person  categorical             [-1,0]\n",
       "1  ALTERSKATEGORIE_GROB            person      ordinal           [-1,0,9]\n",
       "2             ANREDE_KZ            person  categorical             [-1,0]\n",
       "3         CJT_GESAMTTYP            person  categorical                [0]\n",
       "4     FINANZ_MINIMALIST            person      ordinal               [-1]"
      ]
     },
     "execution_count": 6,
     "metadata": {},
     "output_type": "execute_result"
    }
   ],
   "source": [
    "feat_info.head()"
   ]
  },
  {
   "cell_type": "markdown",
   "metadata": {},
   "source": [
    "> **Tip**: Add additional cells to keep everything in reasonably-sized chunks! Keyboard shortcut `esc --> a` (press escape to enter command mode, then press the 'A' key) adds a new cell before the active cell, and `esc --> b` adds a new cell after the active cell. If you need to convert an active cell to a markdown cell, use `esc --> m` and to convert to a code cell, use `esc --> y`. \n",
    "\n",
    "## Step 1: Preprocessing\n",
    "\n",
    "### Step 1.1: Assess Missing Data\n",
    "\n",
    "The feature summary file contains a summary of properties for each demographics data column. You will use this file to help you make cleaning decisions during this stage of the project. First of all, you should assess the demographics data in terms of missing data. Pay attention to the following points as you perform your analysis, and take notes on what you observe. Make sure that you fill in the **Discussion** cell with your findings and decisions at the end of each step that has one!\n",
    "\n",
    "#### Step 1.1.1: Convert Missing Value Codes to NaNs\n",
    "The fourth column of the feature attributes summary (loaded in above as `feat_info`) documents the codes from the data dictionary that indicate missing or unknown data. While the file encodes this as a list (e.g. `[-1,0]`), this will get read in as a string object. You'll need to do a little bit of parsing to make use of it to identify and clean the data. Convert data that matches a 'missing' or 'unknown' value code into a numpy NaN value. You might want to see how much data takes on a 'missing' or 'unknown' code, and how much data is naturally missing, as a point of interest.\n",
    "\n",
    "**As one more reminder, you are encouraged to add additional cells to break up your analysis into manageable chunks.**"
   ]
  },
  {
   "cell_type": "code",
   "execution_count": 7,
   "metadata": {},
   "outputs": [
    {
     "name": "stdout",
     "output_type": "stream",
     "text": [
      "False    890848\n",
      "True        373\n",
      "Name: CAMEO_INTL_2015, dtype: int64\n",
      "False    888340\n",
      "True       2881\n",
      "Name: ALTERSKATEGORIE_GROB, dtype: int64\n"
     ]
    }
   ],
   "source": [
    "# sense check replacements\n",
    "print(pd.value_counts(azdias['CAMEO_INTL_2015'] == 'XX'))\n",
    "\n",
    "print(pd.value_counts(azdias['ALTERSKATEGORIE_GROB'] == 9))"
   ]
  },
  {
   "cell_type": "code",
   "execution_count": 8,
   "metadata": {},
   "outputs": [],
   "source": [
    "# Identify missing or unknown data values and convert them to NaNs.\n",
    "\n",
    "# sudo-code\n",
    "# for each row in feat_info\n",
    "    # parse the values of missing_or_unknown based on the type (e.g. to int if ordinal etc.)\n",
    "\n",
    "actually_nan_count = azdias.isnull().sum()\n",
    "    \n",
    "missing_value_dict = {}    \n",
    "for idx, row in feat_info.iterrows():\n",
    "    \n",
    "    missing_list_raw = row.missing_or_unknown.strip('][').split(',')\n",
    "    \n",
    "    missing_list_converted = []\n",
    "    for entry in missing_list_raw:\n",
    "        # try convert to int\n",
    "        try:\n",
    "            missing_list_converted.append(int(entry))\n",
    "        except:\n",
    "            missing_list_converted.append(entry)\n",
    "\n",
    "    missing_value_dict[row.attribute] = missing_list_converted\n",
    "\n",
    "# sudo-code\n",
    "# use dictionary of missing values for each column\n",
    "# loop over each column\n",
    "    # loop over each missing value for that column\n",
    "        # replace the missing value with NaN\n",
    "        \n",
    "for column in azdias.columns:\n",
    "    for missing_value in missing_value_dict[column]:\n",
    "#         print('Replacing {} with NaN, in column {}'.format(missing_value, column))\n",
    "        azdias[column].replace(missing_value, np.NaN, inplace=True)\n",
    "\n",
    "after_1st_clean_nan_count = azdias.isnull().sum()\n",
    "\n"
   ]
  },
  {
   "cell_type": "code",
   "execution_count": 9,
   "metadata": {},
   "outputs": [
    {
     "name": "stdout",
     "output_type": "stream",
     "text": [
      "False    891221\n",
      "Name: CAMEO_INTL_2015, dtype: int64\n",
      "False    891221\n",
      "Name: ALTERSKATEGORIE_GROB, dtype: int64\n"
     ]
    }
   ],
   "source": [
    "# sense check replacements\n",
    "print(pd.value_counts(azdias['CAMEO_INTL_2015'] == 'XX'))\n",
    "print(pd.value_counts(azdias['ALTERSKATEGORIE_GROB'] == 9))\n"
   ]
  },
  {
   "cell_type": "code",
   "execution_count": null,
   "metadata": {},
   "outputs": [],
   "source": []
  },
  {
   "cell_type": "markdown",
   "metadata": {},
   "source": [
    "#### Step 1.1.2: Assess Missing Data in Each Column\n",
    "\n",
    "How much missing data is present in each column? There are a few columns that are outliers in terms of the proportion of values that are missing. You will want to use matplotlib's [`hist()`](https://matplotlib.org/api/_as_gen/matplotlib.pyplot.hist.html) function to visualize the distribution of missing value counts to find these columns. Identify and document these columns. While some of these columns might have justifications for keeping or re-encoding the data, for this project you should just remove them from the dataframe. (Feel free to make remarks about these outlier columns in the discussion, however!)\n",
    "\n",
    "For the remaining features, are there any patterns in which columns have, or share, missing data?"
   ]
  },
  {
   "cell_type": "code",
   "execution_count": 10,
   "metadata": {},
   "outputs": [
    {
     "data": {
      "image/png": "[encoded data removed]",
      "text/plain": [
       "<matplotlib.figure.Figure at 0x7f6d0d8427b8>"
      ]
     },
     "metadata": {
      "needs_background": "light"
     },
     "output_type": "display_data"
    }
   ],
   "source": [
    "# Perform an assessment of how much missing data there is in each column of the\n",
    "# dataset.\n",
    "\n",
    "# hist was difficult as theres too many columns to sift through \n",
    "# so using barh instead\n",
    "prop_missing = azdias.isnull().sum()/azdias.isnull().count()\n",
    "prop_missing.sort_values().plot(kind='barh', figsize=(20,20))\n",
    "plt.show()"
   ]
  },
  {
   "cell_type": "code",
   "execution_count": 11,
   "metadata": {},
   "outputs": [
    {
     "data": {
      "text/plain": [
       "0.109147     1\n",
       "0.104525     1\n",
       "0.003233     1\n",
       "0.121366     1\n",
       "0.109549     1\n",
       "0.020587     1\n",
       "0.348137     1\n",
       "0.655967     1\n",
       "0.166051     1\n",
       "0.534687     1\n",
       "0.121536     1\n",
       "0.106115     1\n",
       "0.118714     1\n",
       "0.997576     1\n",
       "0.108848     1\n",
       "0.769554     1\n",
       "0.440203     1\n",
       "0.082997     1\n",
       "0.111769     1\n",
       "0.109260     2\n",
       "0.087287     2\n",
       "0.177357     2\n",
       "0.124768     3\n",
       "0.111479     3\n",
       "0.105182     3\n",
       "0.104517     4\n",
       "0.082470     4\n",
       "0.005446     6\n",
       "0.149597     6\n",
       "0.130736     7\n",
       "0.000000    24\n",
       "dtype: int64"
      ]
     },
     "execution_count": 11,
     "metadata": {},
     "output_type": "execute_result"
    }
   ],
   "source": [
    "# Investigate patterns in the amount of missing data in each column.\n",
    "\n",
    "# it appears that there is a set of columns that are all missing data in the same proportions\n",
    "pd.value_counts(prop_missing).sort_values()\n",
    "\n",
    "# lets make a grid where it measures a kind of 'conditional' null count\n",
    "# i.e. proportion of nulls in X when Y is null\n",
    "# TODO see if theres a faster way to do this\n",
    "# conditional_null_list = []\n",
    "# for x, y in permutations(prop_missing[prop_missing != 0].index.tolist(), 2):\n",
    "#     conditional_null = azdias[azdias[y].isnull()][x].isnull().mean() \n",
    "#     conditional_null_list.append((x, y, conditional_null))\n",
    "\n"
   ]
  },
  {
   "cell_type": "code",
   "execution_count": 12,
   "metadata": {},
   "outputs": [
    {
     "name": "stdout",
     "output_type": "stream",
     "text": [
      "['AGER_TYP', 'GEBURTSJAHR', 'TITEL_KZ', 'ALTER_HH', 'KK_KUNDENTYP', 'KBA05_BAUMAX']\n"
     ]
    }
   ],
   "source": [
    "# Remove the outlier columns from the dataset. (You'll perform other data\n",
    "# engineering tasks such as re-encoding and imputation later.)\n",
    "print(prop_missing[prop_missing > .20].index.tolist())\n",
    "\n",
    "removed_columns = prop_missing[prop_missing > .20].index.tolist()\n",
    "\n",
    "# lets drop all columns where > 20% of the data is null\n",
    "azdias = azdias.drop(removed_columns, axis=1, inplace=False)\n",
    "            "
   ]
  },
  {
   "cell_type": "code",
   "execution_count": 13,
   "metadata": {},
   "outputs": [
    {
     "data": {
      "text/plain": [
       "ALTERSKATEGORIE_GROB     0.003233\n",
       "CJT_GESAMTTYP            0.005446\n",
       "GFK_URLAUBERTYP          0.005446\n",
       "ONLINE_AFFINITAET        0.005446\n",
       "RETOURTYP_BK_S           0.005446\n",
       "LP_STATUS_FEIN           0.005446\n",
       "LP_STATUS_GROB           0.005446\n",
       "HH_EINKOMMEN_SCORE       0.020587\n",
       "ANZ_PERSONEN             0.082470\n",
       "SOHO_KZ                  0.082470\n",
       "ANZ_TITEL                0.082470\n",
       "WOHNDAUER_2008           0.082470\n",
       "KONSUMNAEHE              0.082997\n",
       "LP_FAMILIE_GROB          0.087287\n",
       "LP_FAMILIE_FEIN          0.087287\n",
       "GEBAEUDETYP              0.104517\n",
       "WOHNLAGE                 0.104517\n",
       "OST_WEST_KZ              0.104517\n",
       "MIN_GEBAEUDEJAHR         0.104517\n",
       "GEBAEUDETYP_RASTER       0.104525\n",
       "EWDICHTE                 0.105182\n",
       "BALLRAUM                 0.105182\n",
       "INNENSTADT               0.105182\n",
       "LP_LEBENSPHASE_GROB      0.106115\n",
       "ANZ_HH_TITEL             0.108848\n",
       "ORTSGR_KLS9              0.109147\n",
       "ARBEIT                   0.109260\n",
       "RELAT_AB                 0.109260\n",
       "LP_LEBENSPHASE_FEIN      0.109549\n",
       "CAMEO_DEUG_2015          0.111479\n",
       "                           ...   \n",
       "CAMEO_INTL_2015          0.111479\n",
       "ANZ_HAUSHALTE_AKTIV      0.111769\n",
       "KBA13_ANZAHL_PKW         0.118714\n",
       "PRAEGENDE_JUGENDJAHRE    0.121366\n",
       "NATIONALITAET_KZ         0.121536\n",
       "HEALTH_TYP               0.124768\n",
       "VERS_TYP                 0.124768\n",
       "SHOPPER_TYP              0.124768\n",
       "PLZ8_ANTG2               0.130736\n",
       "PLZ8_ANTG3               0.130736\n",
       "PLZ8_ANTG1               0.130736\n",
       "PLZ8_ANTG4               0.130736\n",
       "PLZ8_BAUMAX              0.130736\n",
       "PLZ8_HHZ                 0.130736\n",
       "PLZ8_GBZ                 0.130736\n",
       "KBA05_ANTG3              0.149597\n",
       "KBA05_ANTG2              0.149597\n",
       "KBA05_ANTG1              0.149597\n",
       "MOBI_REGIO               0.149597\n",
       "KBA05_GBZ                0.149597\n",
       "KBA05_ANTG4              0.149597\n",
       "W_KEIT_KIND_HH           0.166051\n",
       "KKK                      0.177357\n",
       "REGIOTYP                 0.177357\n",
       "ALTER_HH                 0.348137\n",
       "GEBURTSJAHR              0.440203\n",
       "KBA05_BAUMAX             0.534687\n",
       "KK_KUNDENTYP             0.655967\n",
       "AGER_TYP                 0.769554\n",
       "TITEL_KZ                 0.997576\n",
       "Length: 61, dtype: float64"
      ]
     },
     "execution_count": 13,
     "metadata": {},
     "output_type": "execute_result"
    }
   ],
   "source": [
    "prop_missing[prop_missing > 0].sort_values()"
   ]
  },
  {
   "cell_type": "markdown",
   "metadata": {},
   "source": [
    "#### Discussion 1.1.2: Assess Missing Data in Each Column\n",
    "\n",
    "Out of the 85 columns 61 had atleast 1 entry with missing data\n",
    "\n",
    "There were 6 columns that had over 20% missing data.\n",
    "\n",
    "From looking at data more closely, there were alot of columns that had the exact same proportion of missing values.\n",
    "Looking at these columns together, you can see that when the data is missing in column, its always missing in the other and vice versa.\n",
    "\n",
    "The columns: \n",
    "\n",
    "PLZ8_ANTG2\n",
    "PLZ8_ANTG3\n",
    "PLZ8_ANTG1\n",
    "PLZ8_ANTG4\n",
    "PLZ8_BAUMAX\n",
    "PLZ8_HHZ\n",
    "PLZ8_GBZ\n",
    "\n",
    "are an example of this. whenever one column has missing data, the other columns have missing data for the exact same entry, exclusively.\n",
    "\n",
    "From reading the data dictionary and some light googling, it appears that PLZ8 is a large post code region in the south of Germany, around Munich.\n",
    "\n",
    "The customer data relates to home ownership levels within that post code so it makes sense that if they don't have data about 1 particular aspect of home ownership in that region, they likely don't know anything about other aspects of home ownership their.\n",
    "\n"
   ]
  },
  {
   "cell_type": "markdown",
   "metadata": {},
   "source": [
    "#### Step 1.1.3: Assess Missing Data in Each Row\n",
    "\n",
    "Now, you'll perform a similar assessment for the rows of the dataset. How much data is missing in each row? As with the columns, you should see some groups of points that have a very different numbers of missing values. Divide the data into two subsets: one for data points that are above some threshold for missing values, and a second subset for points below that threshold.\n",
    "\n",
    "In order to know what to do with the outlier rows, we should see if the distribution of data values on columns that are not missing data (or are missing very little data) are similar or different between the two groups. Select at least five of these columns and compare the distribution of values.\n",
    "- You can use seaborn's [`countplot()`](https://seaborn.pydata.org/generated/seaborn.countplot.html) function to create a bar chart of code frequencies and matplotlib's [`subplot()`](https://matplotlib.org/api/_as_gen/matplotlib.pyplot.subplot.html) function to put bar charts for the two subplots side by side.\n",
    "- To reduce repeated code, you might want to write a function that can perform this comparison, taking as one of its arguments a column to be compared.\n",
    "\n",
    "Depending on what you observe in your comparison, this will have implications on how you approach your conclusions later in the analysis. If the distributions of non-missing features look similar between the data with many missing values and the data with few or no missing values, then we could argue that simply dropping those points from the analysis won't present a major issue. On the other hand, if the data with many missing values looks very different from the data with few or no missing values, then we should make a note on those data as special. We'll revisit these data later on. **Either way, you should continue your analysis for now using just the subset of the data with few or no missing values.**"
   ]
  },
  {
   "cell_type": "code",
   "execution_count": 14,
   "metadata": {},
   "outputs": [
    {
     "data": {
      "text/html": [
       "<div>\n",
       "<style scoped>\n",
       "    .dataframe tbody tr th:only-of-type {\n",
       "        vertical-align: middle;\n",
       "    }\n",
       "\n",
       "    .dataframe tbody tr th {\n",
       "        vertical-align: top;\n",
       "    }\n",
       "\n",
       "    .dataframe thead th {\n",
       "        text-align: right;\n",
       "    }\n",
       "</style>\n",
       "<table border=\"1\" class=\"dataframe\">\n",
       "  <thead>\n",
       "    <tr style=\"text-align: right;\">\n",
       "      <th></th>\n",
       "      <th>Ratio Of Missing Data</th>\n",
       "      <th>Proportion Of Customers</th>\n",
       "    </tr>\n",
       "  </thead>\n",
       "  <tbody>\n",
       "    <tr>\n",
       "      <th>0</th>\n",
       "      <td>0.000000</td>\n",
       "      <td>0.699275</td>\n",
       "    </tr>\n",
       "    <tr>\n",
       "      <th>1</th>\n",
       "      <td>0.594937</td>\n",
       "      <td>0.051141</td>\n",
       "    </tr>\n",
       "    <tr>\n",
       "      <th>2</th>\n",
       "      <td>0.025316</td>\n",
       "      <td>0.031335</td>\n",
       "    </tr>\n",
       "    <tr>\n",
       "      <th>3</th>\n",
       "      <td>0.544304</td>\n",
       "      <td>0.030710</td>\n",
       "    </tr>\n",
       "    <tr>\n",
       "      <th>4</th>\n",
       "      <td>0.101266</td>\n",
       "      <td>0.027594</td>\n",
       "    </tr>\n",
       "  </tbody>\n",
       "</table>\n",
       "</div>"
      ],
      "text/plain": [
       "   Ratio Of Missing Data  Proportion Of Customers\n",
       "0               0.000000                 0.699275\n",
       "1               0.594937                 0.051141\n",
       "2               0.025316                 0.031335\n",
       "3               0.544304                 0.030710\n",
       "4               0.101266                 0.027594"
      ]
     },
     "execution_count": 14,
     "metadata": {},
     "output_type": "execute_result"
    }
   ],
   "source": [
    "# How much data is missing in each row of the dataset?\n",
    "missing_row_data_ratios = azdias.isnull().sum(axis=1)/azdias.shape[1]\n",
    "\n",
    "df = pd.value_counts(missing_row_data_ratios)/azdias.shape[0]\n",
    "prop_of_missing_row_data_ratios = pd.DataFrame(df).reset_index()\n",
    "prop_of_missing_row_data_ratios.columns = ['Ratio Of Missing Data', 'Proportion Of Customers']\n",
    "# sns.countplot(missing_row_data_ratios)\n",
    "\n",
    "# ~70% of customers aren't missing any data at all.\n",
    "# then 5% of customers are missing nearly 60% of the data\n",
    "prop_of_missing_row_data_ratios.head()\n"
   ]
  },
  {
   "cell_type": "code",
   "execution_count": 15,
   "metadata": {},
   "outputs": [],
   "source": [
    "# Write code to divide the data into two subsets based on the number of missing\n",
    "# values in each row.\n",
    "# this is how to split the data\n",
    "azdias_fullinfo = azdias.loc[missing_row_data_ratios == 0]\n",
    "azdias_partialinfo = azdias.loc[missing_row_data_ratios != 0]\n",
    "\n",
    "# but its easier just to add a new bool column that identifies each row as such and keeping it as a single DataFrame\n",
    "azdias['AllDataPresent'] = missing_row_data_ratios == 0\n"
   ]
  },
  {
   "cell_type": "code",
   "execution_count": 16,
   "metadata": {},
   "outputs": [
    {
     "data": {
      "image/png": "[encoded data removed]",
      "text/plain": [
       "<matplotlib.figure.Figure at 0x7f6d0dc30278>"
      ]
     },
     "metadata": {
      "needs_background": "light"
     },
     "output_type": "display_data"
    },
    {
     "data": {
      "image/png": "[encoded data removed]",
      "text/plain": [
       "<matplotlib.figure.Figure at 0x7f6d0dc300f0>"
      ]
     },
     "metadata": {
      "needs_background": "light"
     },
     "output_type": "display_data"
    },
    {
     "data": {
      "image/png": "[encoded data removed]",
      "text/plain": [
       "<matplotlib.figure.Figure at 0x7f6d0ca39940>"
      ]
     },
     "metadata": {
      "needs_background": "light"
     },
     "output_type": "display_data"
    },
    {
     "data": {
      "image/png": "[encoded data removed]",
      "text/plain": [
       "<matplotlib.figure.Figure at 0x7f6d0ca114a8>"
      ]
     },
     "metadata": {
      "needs_background": "light"
     },
     "output_type": "display_data"
    },
    {
     "data": {
      "image/png": "[encoded data removed]",
      "text/plain": [
       "<matplotlib.figure.Figure at 0x7f6d0c8e7cf8>"
      ]
     },
     "metadata": {
      "needs_background": "light"
     },
     "output_type": "display_data"
    }
   ],
   "source": [
    "# Compare the distribution of values for at least five columns where there are\n",
    "# no or few missing values, between the two subsets.\n",
    "columns_with_no_missing_values = prop_missing[prop_missing == 0].index\n",
    "\n",
    "# graph the 2 types together in one figure for easier comparison\n",
    "for column in columns_with_no_missing_values[:5]:\n",
    "    data_present_grouping = azdias[[column, 'AllDataPresent']].groupby('AllDataPresent')\n",
    "    data_present_grouping[column].value_counts(normalize=True).unstack(0).plot.bar()\n"
   ]
  },
  {
   "cell_type": "code",
   "execution_count": 17,
   "metadata": {},
   "outputs": [],
   "source": [
    "azdias.drop('AllDataPresent', axis=1, inplace=True)"
   ]
  },
  {
   "cell_type": "markdown",
   "metadata": {},
   "source": [
    "#### Discussion 1.1.3: Assess Missing Data in Each Row\n",
    "\n",
    "when splitting customers up into cases where all customer data is present and cases where there is partially missing data,\n",
    "its noted that the distribution of values for some columns is very different\n",
    "\n",
    "for example, for column FINANZ_ANLEGER, which signifies how likely they are to be an 'investor' type customer, with 1 being very high and 5 being very low.\n",
    "\n",
    "For customers that we have full data on, the proportion of customers that are 5 (very low) is  < 20%, but for customers that we only have partial information on, this proportion is nearly 50%.\n",
    "\n",
    "it would seem that the data with lots of missing values are qualitatively different from data with no missing values.\n",
    "\n",
    "this is very important if we decide to remove customers with missing values"
   ]
  },
  {
   "cell_type": "markdown",
   "metadata": {},
   "source": [
    "### Step 1.2: Select and Re-Encode Features\n",
    "\n",
    "Checking for missing data isn't the only way in which you can prepare a dataset for analysis. Since the unsupervised learning techniques to be used will only work on data that is encoded numerically, you need to make a few encoding changes or additional assumptions to be able to make progress. In addition, while almost all of the values in the dataset are encoded using numbers, not all of them represent numeric values. Check the third column of the feature summary (`feat_info`) for a summary of types of measurement.\n",
    "- For numeric and interval data, these features can be kept without changes.\n",
    "- Most of the variables in the dataset are ordinal in nature. While ordinal values may technically be non-linear in spacing, make the simplifying assumption that the ordinal variables can be treated as being interval in nature (that is, kept without any changes).\n",
    "- Special handling may be necessary for the remaining two variable types: categorical, and 'mixed'.\n",
    "\n",
    "In the first two parts of this sub-step, you will perform an investigation of the categorical and mixed-type features and make a decision on each of them, whether you will keep, drop, or re-encode each. Then, in the last part, you will create a new data frame with only the selected and engineered columns.\n",
    "\n",
    "Data wrangling is often the trickiest part of the data analysis process, and there's a lot of it to be done here. But stick with it: once you're done with this step, you'll be ready to get to the machine learning parts of the project!"
   ]
  },
  {
   "cell_type": "code",
   "execution_count": 18,
   "metadata": {},
   "outputs": [
    {
     "data": {
      "text/plain": [
       "ordinal        49\n",
       "categorical    21\n",
       "numeric         7\n",
       "mixed           7\n",
       "interval        1\n",
       "Name: type, dtype: int64"
      ]
     },
     "execution_count": 18,
     "metadata": {},
     "output_type": "execute_result"
    }
   ],
   "source": [
    "# How many features are there of each data type?\n",
    "pd.value_counts(feat_info.type)\n"
   ]
  },
  {
   "cell_type": "markdown",
   "metadata": {},
   "source": [
    "#### Step 1.2.1: Re-Encode Categorical Features\n",
    "\n",
    "For categorical data, you would ordinarily need to encode the levels as dummy variables. Depending on the number of categories, perform one of the following:\n",
    "- For binary (two-level) categoricals that take numeric values, you can keep them without needing to do anything.\n",
    "- There is one binary variable that takes on non-numeric values. For this one, you need to re-encode the values as numbers or create a dummy variable.\n",
    "- For multi-level categoricals (three or more values), you can choose to encode the values using multiple dummy variables (e.g. via [OneHotEncoder](http://scikit-learn.org/stable/modules/generated/sklearn.preprocessing.OneHotEncoder.html)), or (to keep things straightforward) just drop them from the analysis. As always, document your choices in the Discussion section."
   ]
  },
  {
   "cell_type": "code",
   "execution_count": 19,
   "metadata": {},
   "outputs": [
    {
     "data": {
      "text/html": [
       "<div>\n",
       "<style scoped>\n",
       "    .dataframe tbody tr th:only-of-type {\n",
       "        vertical-align: middle;\n",
       "    }\n",
       "\n",
       "    .dataframe tbody tr th {\n",
       "        vertical-align: top;\n",
       "    }\n",
       "\n",
       "    .dataframe thead th {\n",
       "        text-align: right;\n",
       "    }\n",
       "</style>\n",
       "<table border=\"1\" class=\"dataframe\">\n",
       "  <thead>\n",
       "    <tr style=\"text-align: right;\">\n",
       "      <th></th>\n",
       "      <th>UniqueValues</th>\n",
       "      <th>Numerical</th>\n",
       "      <th>EncodeType</th>\n",
       "    </tr>\n",
       "  </thead>\n",
       "  <tbody>\n",
       "    <tr>\n",
       "      <th>ANREDE_KZ</th>\n",
       "      <td>2</td>\n",
       "      <td>True</td>\n",
       "      <td>A</td>\n",
       "    </tr>\n",
       "    <tr>\n",
       "      <th>GREEN_AVANTGARDE</th>\n",
       "      <td>2</td>\n",
       "      <td>True</td>\n",
       "      <td>A</td>\n",
       "    </tr>\n",
       "    <tr>\n",
       "      <th>VERS_TYP</th>\n",
       "      <td>2</td>\n",
       "      <td>True</td>\n",
       "      <td>A</td>\n",
       "    </tr>\n",
       "    <tr>\n",
       "      <th>SOHO_KZ</th>\n",
       "      <td>2</td>\n",
       "      <td>True</td>\n",
       "      <td>A</td>\n",
       "    </tr>\n",
       "    <tr>\n",
       "      <th>OST_WEST_KZ</th>\n",
       "      <td>2</td>\n",
       "      <td>False</td>\n",
       "      <td>B</td>\n",
       "    </tr>\n",
       "    <tr>\n",
       "      <th>GEBAEUDETYP</th>\n",
       "      <td>4</td>\n",
       "      <td>True</td>\n",
       "      <td>C</td>\n",
       "    </tr>\n",
       "    <tr>\n",
       "      <th>ZABEOTYP</th>\n",
       "      <td>6</td>\n",
       "      <td>True</td>\n",
       "      <td>C</td>\n",
       "    </tr>\n",
       "    <tr>\n",
       "      <th>SHOPPER_TYP</th>\n",
       "      <td>4</td>\n",
       "      <td>True</td>\n",
       "      <td>C</td>\n",
       "    </tr>\n",
       "    <tr>\n",
       "      <th>NATIONALITAET_KZ</th>\n",
       "      <td>3</td>\n",
       "      <td>True</td>\n",
       "      <td>C</td>\n",
       "    </tr>\n",
       "    <tr>\n",
       "      <th>LP_STATUS_GROB</th>\n",
       "      <td>5</td>\n",
       "      <td>True</td>\n",
       "      <td>C</td>\n",
       "    </tr>\n",
       "    <tr>\n",
       "      <th>LP_STATUS_FEIN</th>\n",
       "      <td>10</td>\n",
       "      <td>True</td>\n",
       "      <td>C</td>\n",
       "    </tr>\n",
       "    <tr>\n",
       "      <th>LP_FAMILIE_GROB</th>\n",
       "      <td>5</td>\n",
       "      <td>True</td>\n",
       "      <td>C</td>\n",
       "    </tr>\n",
       "    <tr>\n",
       "      <th>LP_FAMILIE_FEIN</th>\n",
       "      <td>11</td>\n",
       "      <td>True</td>\n",
       "      <td>C</td>\n",
       "    </tr>\n",
       "    <tr>\n",
       "      <th>GFK_URLAUBERTYP</th>\n",
       "      <td>12</td>\n",
       "      <td>True</td>\n",
       "      <td>C</td>\n",
       "    </tr>\n",
       "    <tr>\n",
       "      <th>FINANZTYP</th>\n",
       "      <td>6</td>\n",
       "      <td>True</td>\n",
       "      <td>C</td>\n",
       "    </tr>\n",
       "    <tr>\n",
       "      <th>CJT_GESAMTTYP</th>\n",
       "      <td>6</td>\n",
       "      <td>True</td>\n",
       "      <td>C</td>\n",
       "    </tr>\n",
       "    <tr>\n",
       "      <th>CAMEO_DEUG_2015</th>\n",
       "      <td>9</td>\n",
       "      <td>False</td>\n",
       "      <td>C</td>\n",
       "    </tr>\n",
       "    <tr>\n",
       "      <th>CAMEO_DEU_2015</th>\n",
       "      <td>44</td>\n",
       "      <td>False</td>\n",
       "      <td>C</td>\n",
       "    </tr>\n",
       "  </tbody>\n",
       "</table>\n",
       "</div>"
      ],
      "text/plain": [
       "                  UniqueValues  Numerical EncodeType\n",
       "ANREDE_KZ                    2       True          A\n",
       "GREEN_AVANTGARDE             2       True          A\n",
       "VERS_TYP                     2       True          A\n",
       "SOHO_KZ                      2       True          A\n",
       "OST_WEST_KZ                  2      False          B\n",
       "GEBAEUDETYP                  4       True          C\n",
       "ZABEOTYP                     6       True          C\n",
       "SHOPPER_TYP                  4       True          C\n",
       "NATIONALITAET_KZ             3       True          C\n",
       "LP_STATUS_GROB               5       True          C\n",
       "LP_STATUS_FEIN              10       True          C\n",
       "LP_FAMILIE_GROB              5       True          C\n",
       "LP_FAMILIE_FEIN             11       True          C\n",
       "GFK_URLAUBERTYP             12       True          C\n",
       "FINANZTYP                    6       True          C\n",
       "CJT_GESAMTTYP                6       True          C\n",
       "CAMEO_DEUG_2015              9      False          C\n",
       "CAMEO_DEU_2015              44      False          C"
      ]
     },
     "execution_count": 19,
     "metadata": {},
     "output_type": "execute_result"
    }
   ],
   "source": [
    "# Assess categorical variables: which are binary, which are multi-level, and\n",
    "# which one needs to be re-encoded?\n",
    "\n",
    "categorical_columns = feat_info[feat_info.type == 'categorical'].attribute\n",
    "# remove the columns that are no longer in the data set due to excess missing data\n",
    "categorical_columns = categorical_columns[~categorical_columns.isin(removed_columns)]\n",
    "\n",
    "# count number of unique values\n",
    "unique_value_counts = azdias_fullinfo[categorical_columns].nunique(axis=0) \n",
    "\n",
    "# determine which columsn have a numeric dtype\n",
    "is_numeric_dict = {}\n",
    "for column in categorical_columns:\n",
    "    is_numeric_dict[column] = is_numeric_dtype(azdias_fullinfo[column])\n",
    "    \n",
    "encode_options = pd.concat([unique_value_counts, pd.Series(is_numeric_dict)], axis=1)\n",
    "encode_options.columns = ['UniqueValues', 'Numerical']\n",
    "\n",
    "# encode types by column\n",
    "# A = binary, numeric = no re-encoding needed\n",
    "# B = binary, non-numeric = map to numeric\n",
    "# C = everything else, One-Hot-Encode\n",
    "\n",
    "encode_type_dict = {}\n",
    "for label, row_series in encode_options.iterrows():\n",
    "    if row_series.UniqueValues == 2 and row_series.Numerical == True:\n",
    "        encode_type_dict[label] = 'A'\n",
    "    elif row_series.UniqueValues == 2 and row_series.Numerical == False:\n",
    "        encode_type_dict[label] = 'B'\n",
    "    else:\n",
    "        encode_type_dict[label] = 'C'\n",
    "        \n",
    "encode_options = pd.concat([encode_options, pd.Series(encode_type_dict, name=\"EncodeType\")], axis=1)   \n",
    "\n",
    "encode_options.sort_values(by=['EncodeType'])"
   ]
  },
  {
   "cell_type": "code",
   "execution_count": 20,
   "metadata": {},
   "outputs": [
    {
     "name": "stdout",
     "output_type": "stream",
     "text": [
      "Unique Values for OST_WEST_KZ: ['W' 'O']\n",
      "Unique Values for OST_WEST_KZ: [1 0]\n"
     ]
    }
   ],
   "source": [
    "# Re-encode categorical variable(s) to be kept in the analysis.\n",
    "\n",
    "# encode types by column\n",
    "# A = binary, numeric = no re-encoding needed\n",
    "# B = binary, non-numeric = map to numeric\n",
    "# C = everything else, One-Hot-Encode\n",
    "\n",
    "# make this a new Dataframe, and not a copy of the previous raw data\n",
    "# make sure to reindex the index as this will cause problems later if you try to concat any other data to it\n",
    "azdias_fullinfo = pd.DataFrame(azdias.loc[missing_row_data_ratios == 0])\n",
    "azdias_fullinfo.reset_index(drop=True, inplace=True)\n",
    "\n",
    "# OST_WEST_KZ is the only column in type B, so lets map this to numeric\n",
    "print('Unique Values for OST_WEST_KZ: {}'.format(pd.unique(azdias_fullinfo['OST_WEST_KZ'])))\n",
    "azdias_fullinfo['OST_WEST_KZ'] = azdias_fullinfo['OST_WEST_KZ'].map({'W': 1, 'O': 0})\n",
    "print('Unique Values for OST_WEST_KZ: {}'.format(pd.unique(azdias_fullinfo['OST_WEST_KZ'])))\n",
    "\n",
    "# Now type C\n",
    "multi_level_cat_columns = encode_options[encode_options.EncodeType == 'C'].index\n",
    "\n",
    "# Label encode all categories 1st, as one hot encode only works with numerical, not strings\n",
    "le = LabelEncoder()\n",
    "for column in multi_level_cat_columns:\n",
    "    le = le.fit(azdias_fullinfo[column].values)\n",
    "    azdias_fullinfo[column] = le.transform(azdias_fullinfo[column].values)\n",
    "\n",
    "# one hot encode labels    \n",
    "encoder = OneHotEncoder().fit(azdias_fullinfo[multi_level_cat_columns])\n",
    "transformed_multi_cat_np = encoder.transform(azdias_fullinfo[multi_level_cat_columns]).toarray()\n",
    "\n",
    "# create column names for new columns\n",
    "encode_column_names = []\n",
    "for column in multi_level_cat_columns:\n",
    "    unique_value_count = pd.unique(azdias_fullinfo[column]).shape[0]\n",
    "    for i in range(1, unique_value_count+1):\n",
    "        encode_column_names.append(column + '_' + str(i))\n",
    "\n",
    "transformed_multi_cat_df = pd.DataFrame(transformed_multi_cat_np, columns=encode_column_names)"
   ]
  },
  {
   "cell_type": "code",
   "execution_count": 21,
   "metadata": {},
   "outputs": [
    {
     "name": "stdout",
     "output_type": "stream",
     "text": [
      "Sense check passed!\n"
     ]
    }
   ],
   "source": [
    "# sense check for onehotencoder\n",
    "# count of unique values in columns should == count of new columns created\n",
    "if encode_options[encode_options.EncodeType == 'C'].UniqueValues.sum() == transformed_multi_cat_df.shape[1]:\n",
    "    print('Sense check passed!')\n",
    "else:\n",
    "    print('Sense check failed! :(')\n",
    "    \n"
   ]
  },
  {
   "cell_type": "code",
   "execution_count": 22,
   "metadata": {},
   "outputs": [],
   "source": [
    "# concat new columns onto data    \n",
    "azdias_fullinfo = pd.concat([azdias_fullinfo, transformed_multi_cat_df], axis=1) "
   ]
  },
  {
   "cell_type": "code",
   "execution_count": 23,
   "metadata": {},
   "outputs": [],
   "source": [
    "# drop old columns\n",
    "azdias_fullinfo.drop(multi_level_cat_columns.values, axis=1, inplace=True)"
   ]
  },
  {
   "cell_type": "markdown",
   "metadata": {},
   "source": [
    "#### Discussion 1.2.1: Re-Encode Categorical Features\n",
    "\n",
    "1st, I analysed the unique values and data types of each 'categorical' type column.\n",
    "\n",
    "There were 4 columns that only held 2 values and were of numeric type, so we could leave them as is, as they would effectively act as a binary field.\n",
    "\n",
    "There was 1 column that held 2 unique string values, OST_WEST_KZ. These string values were mapped to binary\n",
    "\n",
    "Finally, there were 13 columns that held multiple, string values within each column.\n",
    "\n",
    "Using the LabelBinarizer() class from sklearn, these strings were convered to numbers\n",
    "and then using OneHotEncoder() class, these numbers were each represented by their own binary column.\n",
    "\n",
    "I decided to keep all the columns for now and did not drop any. I can continue with the analysis and if there are bottle necks or its particularly slow, i may come back and drop some.\n",
    "\n",
    "There is one feature, CAMEO_DEU_2015, that has 44 unique values, so that would probably be a good candidate to drop\n"
   ]
  },
  {
   "cell_type": "markdown",
   "metadata": {},
   "source": [
    "#### Step 1.2.2: Engineer Mixed-Type Features\n",
    "\n",
    "There are a handful of features that are marked as \"mixed\" in the feature summary that require special treatment in order to be included in the analysis. There are two in particular that deserve attention; the handling of the rest are up to your own choices:\n",
    "- \"PRAEGENDE_JUGENDJAHRE\" combines information on three dimensions: generation by decade, movement (mainstream vs. avantgarde), and nation (east vs. west). While there aren't enough levels to disentangle east from west, you should create two new variables to capture the other two dimensions: an interval-type variable for decade, and a binary variable for movement.\n",
    "- \"CAMEO_INTL_2015\" combines information on two axes: wealth and life stage. Break up the two-digit codes by their 'tens'-place and 'ones'-place digits into two new ordinal variables (which, for the purposes of this project, is equivalent to just treating them as their raw numeric values).\n",
    "- If you decide to keep or engineer new features around the other mixed-type features, make sure you note your steps in the Discussion section.\n",
    "\n",
    "Be sure to check `Data_Dictionary.md` for the details needed to finish these tasks."
   ]
  },
  {
   "cell_type": "code",
   "execution_count": 24,
   "metadata": {},
   "outputs": [
    {
     "name": "stdout",
     "output_type": "stream",
     "text": [
      "Sense Check passed\n"
     ]
    }
   ],
   "source": [
    "# Investigate \"PRAEGENDE_JUGENDJAHRE\" and engineer two new variables.\n",
    "azdias_fullinfo['PRAEGENDE_JUGENDJAHRE'].head()\n",
    "\n",
    "# for the dict, we'll say mainstream is 0 and avantgard is 1\n",
    "movement_dict = {1:0, 3:0, 5:0, 8:0, 10:0, 12:0, 14:0, 2:1, 4:1, 6:1, 7:1, 9:1, 11:1, 13:1, 15:1}\n",
    "generation_dict = {1:40, 2:40, 3:50, 4:50, 5:60, 6:60, 7:60, 8:70, 9:70, 10:80, 11:80, 12:80, 13:80, 14:90, 15:90}\n",
    "\n",
    "azdias_fullinfo['MovementType'] = azdias_fullinfo['PRAEGENDE_JUGENDJAHRE'].map(movement_dict)\n",
    "azdias_fullinfo['AgeGeneration'] = azdias_fullinfo['PRAEGENDE_JUGENDJAHRE'].map(generation_dict)\n",
    "\n",
    "azdias_fullinfo.drop('PRAEGENDE_JUGENDJAHRE', axis=1, inplace=True)\n",
    "\n",
    "#sense check\n",
    "if np.any(azdias_fullinfo[['MovementType', 'AgeGeneration']].isnull().sum() > 0):\n",
    "    print('Somethings not right. There are nans in the data')\n",
    "else:\n",
    "    print('Sense Check passed')\n",
    "    \n"
   ]
  },
  {
   "cell_type": "code",
   "execution_count": 25,
   "metadata": {},
   "outputs": [
    {
     "name": "stdout",
     "output_type": "stream",
     "text": [
      "Sense check passed!\n"
     ]
    }
   ],
   "source": [
    "# Investigate \"CAMEO_INTL_2015\" and engineer two new variables.\n",
    "azdias_fullinfo['LifeStage'] = azdias_fullinfo['CAMEO_INTL_2015'].astype(int).mod(10)\n",
    "azdias_fullinfo['WealthType'] = ((azdias_fullinfo['CAMEO_INTL_2015'].astype(int)-azdias_fullinfo['CAMEO_INTL_2015'].astype(int).mod(10))/10).astype(int)\n",
    "\n",
    "if np.any(azdias_fullinfo['CAMEO_INTL_2015'].astype(int) != (azdias_fullinfo['WealthType']*10 + azdias_fullinfo['LifeStage']).astype(int)):\n",
    "    print('Sense check failed!')\n",
    "else:\n",
    "    print('Sense check passed!')\n",
    "\n",
    "azdias_fullinfo.drop('CAMEO_INTL_2015', axis=1, inplace=True)"
   ]
  },
  {
   "cell_type": "markdown",
   "metadata": {},
   "source": [
    "#### Discussion 1.2.2: Engineer Mixed-Type Features\n",
    "\n",
    "the data within PRAEGENDE_JUGENDJAHRE was split into MovementType & AgeGeneration. the original field was then dropped.\n",
    "the data within CAMEO_INTL_2015 was split into LifeStage & WealthType. the original field was then dropped.\n",
    "\n",
    "the new fields were either binary or ordinal so no further transformations were performed"
   ]
  },
  {
   "cell_type": "markdown",
   "metadata": {},
   "source": [
    "#### Step 1.2.3: Complete Feature Selection\n",
    "\n",
    "In order to finish this step up, you need to make sure that your data frame now only has the columns that you want to keep. To summarize, the dataframe should consist of the following:\n",
    "- All numeric, interval, and ordinal type columns from the original dataset.\n",
    "- Binary categorical features (all numerically-encoded).\n",
    "- Engineered features from other multi-level categorical features and mixed features.\n",
    "\n",
    "Make sure that for any new columns that you have engineered, that you've excluded the original columns from the final dataset. Otherwise, their values will interfere with the analysis later on the project. For example, you should not keep \"PRAEGENDE_JUGENDJAHRE\", since its values won't be useful for the algorithm: only the values derived from it in the engineered features you created should be retained. As a reminder, your data should only be from **the subset with few or no missing values**."
   ]
  },
  {
   "cell_type": "code",
   "execution_count": 26,
   "metadata": {},
   "outputs": [],
   "source": [
    "# If there are other re-engineering tasks you need to perform, make sure you\n",
    "# take care of them here. (Dealing with missing data will come in step 2.1.)\n",
    "\n"
   ]
  },
  {
   "cell_type": "code",
   "execution_count": 27,
   "metadata": {},
   "outputs": [],
   "source": [
    "# Do whatever you need to in order to ensure that the dataframe only contains\n",
    "# the columns that should be passed to the algorithm functions.\n",
    "\n"
   ]
  },
  {
   "cell_type": "markdown",
   "metadata": {},
   "source": [
    "### Step 1.3: Create a Cleaning Function\n",
    "\n",
    "Even though you've finished cleaning up the general population demographics data, it's important to look ahead to the future and realize that you'll need to perform the same cleaning steps on the customer demographics data. In this substep, complete the function below to execute the main feature selection, encoding, and re-engineering steps you performed above. Then, when it comes to looking at the customer data in Step 3, you can just run this function on that DataFrame to get the trimmed dataset in a single step."
   ]
  },
  {
   "cell_type": "code",
   "execution_count": 28,
   "metadata": {},
   "outputs": [],
   "source": [
    "def clean_data(df):\n",
    "    \"\"\"\n",
    "    Perform feature trimming, re-encoding, and engineering for demographics\n",
    "    data\n",
    "    \n",
    "    INPUT: Demographics DataFrame\n",
    "    OUTPUT: Trimmed and cleaned demographics DataFrame\n",
    "    \"\"\"\n",
    "    \n",
    "    # Put in code here to execute all main cleaning steps:\n",
    "    # convert missing value codes into NaNs, ...\n",
    "    missing_value_dict = {'AGER_TYP': [-1, 0],\n",
    "                         'ALTERSKATEGORIE_GROB': [-1, 0, 9],\n",
    "                         'ANREDE_KZ': [-1, 0],\n",
    "                         'CJT_GESAMTTYP': [0],\n",
    "                         'FINANZ_MINIMALIST': [-1],\n",
    "                         'FINANZ_SPARER': [-1],\n",
    "                         'FINANZ_VORSORGER': [-1],\n",
    "                         'FINANZ_ANLEGER': [-1],\n",
    "                         'FINANZ_UNAUFFAELLIGER': [-1],\n",
    "                         'FINANZ_HAUSBAUER': [-1],\n",
    "                         'FINANZTYP': [-1],\n",
    "                         'GEBURTSJAHR': [0],\n",
    "                         'GFK_URLAUBERTYP': [''],\n",
    "                         'GREEN_AVANTGARDE': [''],\n",
    "                         'HEALTH_TYP': [-1, 0],\n",
    "                         'LP_LEBENSPHASE_FEIN': [0],\n",
    "                         'LP_LEBENSPHASE_GROB': [0],\n",
    "                         'LP_FAMILIE_FEIN': [0],\n",
    "                         'LP_FAMILIE_GROB': [0],\n",
    "                         'LP_STATUS_FEIN': [0],\n",
    "                         'LP_STATUS_GROB': [0],\n",
    "                         'NATIONALITAET_KZ': [-1, 0],\n",
    "                         'PRAEGENDE_JUGENDJAHRE': [-1, 0],\n",
    "                         'RETOURTYP_BK_S': [0],\n",
    "                         'SEMIO_SOZ': [-1, 9],\n",
    "                         'SEMIO_FAM': [-1, 9],\n",
    "                         'SEMIO_REL': [-1, 9],\n",
    "                         'SEMIO_MAT': [-1, 9],\n",
    "                         'SEMIO_VERT': [-1, 9],\n",
    "                         'SEMIO_LUST': [-1, 9],\n",
    "                         'SEMIO_ERL': [-1, 9],\n",
    "                         'SEMIO_KULT': [-1, 9],\n",
    "                         'SEMIO_RAT': [-1, 9],\n",
    "                         'SEMIO_KRIT': [-1, 9],\n",
    "                         'SEMIO_DOM': [-1, 9],\n",
    "                         'SEMIO_KAEM': [-1, 9],\n",
    "                         'SEMIO_PFLICHT': [-1, 9],\n",
    "                         'SEMIO_TRADV': [-1, 9],\n",
    "                         'SHOPPER_TYP': [-1],\n",
    "                         'SOHO_KZ': [-1],\n",
    "                         'TITEL_KZ': [-1, 0],\n",
    "                         'VERS_TYP': [-1],\n",
    "                         'ZABEOTYP': [-1, 9],\n",
    "                         'ALTER_HH': [0],\n",
    "                         'ANZ_PERSONEN': [''],\n",
    "                         'ANZ_TITEL': [''],\n",
    "                         'HH_EINKOMMEN_SCORE': [-1, 0],\n",
    "                         'KK_KUNDENTYP': [-1],\n",
    "                         'W_KEIT_KIND_HH': [-1, 0],\n",
    "                         'WOHNDAUER_2008': [-1, 0],\n",
    "                         'ANZ_HAUSHALTE_AKTIV': [0],\n",
    "                         'ANZ_HH_TITEL': [''],\n",
    "                         'GEBAEUDETYP': [-1, 0],\n",
    "                         'KONSUMNAEHE': [''],\n",
    "                         'MIN_GEBAEUDEJAHR': [0],\n",
    "                         'OST_WEST_KZ': [-1],\n",
    "                         'WOHNLAGE': [-1],\n",
    "                         'CAMEO_DEUG_2015': [-1, 'X'],\n",
    "                         'CAMEO_DEU_2015': ['XX'],\n",
    "                         'CAMEO_INTL_2015': [-1, 'XX'],\n",
    "                         'KBA05_ANTG1': [-1],\n",
    "                         'KBA05_ANTG2': [-1],\n",
    "                         'KBA05_ANTG3': [-1],\n",
    "                         'KBA05_ANTG4': [-1],\n",
    "                         'KBA05_BAUMAX': [-1, 0],\n",
    "                         'KBA05_GBZ': [-1, 0],\n",
    "                         'BALLRAUM': [-1],\n",
    "                         'EWDICHTE': [-1],\n",
    "                         'INNENSTADT': [-1],\n",
    "                         'GEBAEUDETYP_RASTER': [''],\n",
    "                         'KKK': [-1, 0],\n",
    "                         'MOBI_REGIO': [''],\n",
    "                         'ONLINE_AFFINITAET': [''],\n",
    "                         'REGIOTYP': [-1, 0],\n",
    "                         'KBA13_ANZAHL_PKW': [''],\n",
    "                         'PLZ8_ANTG1': [-1],\n",
    "                         'PLZ8_ANTG2': [-1],\n",
    "                         'PLZ8_ANTG3': [-1],\n",
    "                         'PLZ8_ANTG4': [-1],\n",
    "                         'PLZ8_BAUMAX': [-1, 0],\n",
    "                         'PLZ8_HHZ': [-1],\n",
    "                         'PLZ8_GBZ': [-1],\n",
    "                         'ARBEIT': [-1, 9],\n",
    "                         'ORTSGR_KLS9': [-1, 0],\n",
    "                         'RELAT_AB': [-1, 9]}\n",
    "\n",
    "    for column in df.columns:\n",
    "        for missing_value in missing_value_dict[column]:\n",
    "            df[column].replace(missing_value, np.NaN, inplace=True)\n",
    "    \n",
    "    # remove selected columns and rows, ...\n",
    "    \n",
    "    # remove columns\n",
    "    df.drop(['AGER_TYP', 'GEBURTSJAHR', 'TITEL_KZ', 'ALTER_HH', 'KK_KUNDENTYP', 'KBA05_BAUMAX'], axis=1, inplace=True)\n",
    "\n",
    "    # remove rows where any data is missing\n",
    "    missing_row_data_ratios = df.isnull().sum(axis=1)/df.shape[1]\n",
    "    df = pd.DataFrame(df.loc[missing_row_data_ratios == 0])\n",
    "    df.reset_index(drop=True, inplace=True)\n",
    "\n",
    "    # select, re-encode, and engineer column values.\n",
    "\n",
    "    # binary string to binary int\n",
    "    df['OST_WEST_KZ'] = df['OST_WEST_KZ'].map({'W': 1, 'O': 0})\n",
    "    \n",
    "    \n",
    "    # Label encode all categories 1st, as one hot encode only works with numerical, not strings\n",
    "    multi_level_cat_columns = ['CJT_GESAMTTYP', 'FINANZTYP', 'GFK_URLAUBERTYP', 'LP_FAMILIE_FEIN',\n",
    "       'LP_FAMILIE_GROB', 'LP_STATUS_FEIN', 'LP_STATUS_GROB',\n",
    "       'NATIONALITAET_KZ', 'SHOPPER_TYP', 'ZABEOTYP', 'GEBAEUDETYP',\n",
    "       'CAMEO_DEUG_2015', 'CAMEO_DEU_2015']\n",
    "    \n",
    "    for column in multi_level_cat_columns:\n",
    "        df[column] = le.fit_transform(df[column].values)\n",
    "\n",
    "    # one hot encode labels    \n",
    "#     encoder = OneHotEncoder().fit(df[multi_level_cat_columns])\n",
    "    transformed_multi_cat_np = encoder.transform(df[multi_level_cat_columns]).toarray()\n",
    "\n",
    "    # create feature names for transformed features\n",
    "    encode_column_names = []\n",
    "    j = 0\n",
    "    for column in multi_level_cat_columns:\n",
    "        unique_value_count = encoder.n_values_[j]\n",
    "        j += 1\n",
    "        for i in range(1, unique_value_count+1):\n",
    "            encode_column_names.append(column + '_' + str(i))\n",
    "\n",
    "    transformed_multi_cat_df = pd.DataFrame(transformed_multi_cat_np, columns=encode_column_names)\n",
    "    \n",
    "    df = pd.concat([df, transformed_multi_cat_df], axis=1) \n",
    "    # drop old columns\n",
    "    df.drop(multi_level_cat_columns, axis=1, inplace=True)    \n",
    "    \n",
    "    # for the dict, we'll say mainstream is 0 and avantgard is 1\n",
    "    movement_dict = {1:0, 3:0, 5:0, 8:0, 10:0, 12:0, 14:0, 2:1, 4:1, 6:1, 7:1, 9:1, 11:1, 13:1, 15:1}\n",
    "    generation_dict = {1:40, 2:40, 3:50, 4:50, 5:60, 6:60, 7:60, 8:70, 9:70, 10:80, 11:80, 12:80, 13:80, 14:90, 15:90}\n",
    "\n",
    "    # re-encode PRAEGENDE_JUGENDJAHRE\n",
    "    df['MovementType'] = df['PRAEGENDE_JUGENDJAHRE'].map(movement_dict)\n",
    "    df['AgeGeneration'] = df['PRAEGENDE_JUGENDJAHRE'].map(generation_dict)\n",
    "    df.drop('PRAEGENDE_JUGENDJAHRE', axis=1, inplace=True)\n",
    "\n",
    "    # re-encode CAMEO_INTL_2015\n",
    "    df['LifeStage'] = df['CAMEO_INTL_2015'].astype(int).mod(10)\n",
    "    df['WealthType'] = ((df['CAMEO_INTL_2015'].astype(int)-df['CAMEO_INTL_2015'].astype(int).mod(10))/10).astype(int)\n",
    "    df.drop('CAMEO_INTL_2015', axis=1, inplace=True)\n",
    "    \n",
    "    # Return the cleaned dataframe.\n",
    "    return df\n",
    "    "
   ]
  },
  {
   "cell_type": "markdown",
   "metadata": {},
   "source": [
    "## Step 2: Feature Transformation\n",
    "\n",
    "### Step 2.1: Apply Feature Scaling\n",
    "\n",
    "Before we apply dimensionality reduction techniques to the data, we need to perform feature scaling so that the principal component vectors are not influenced by the natural differences in scale for features. Starting from this part of the project, you'll want to keep an eye on the [API reference page for sklearn](http://scikit-learn.org/stable/modules/classes.html) to help you navigate to all of the classes and functions that you'll need. In this substep, you'll need to check the following:\n",
    "\n",
    "- sklearn requires that data not have missing values in order for its estimators to work properly. So, before applying the scaler to your data, make sure that you've cleaned the DataFrame of the remaining missing values. This can be as simple as just removing all data points with missing data, or applying an [Imputer](http://scikit-learn.org/stable/modules/generated/sklearn.preprocessing.Imputer.html) to replace all missing values. You might also try a more complicated procedure where you temporarily remove missing values in order to compute the scaling parameters before re-introducing those missing values and applying imputation. Think about how much missing data you have and what possible effects each approach might have on your analysis, and justify your decision in the discussion section below.\n",
    "- For the actual scaling function, a [StandardScaler](http://scikit-learn.org/stable/modules/generated/sklearn.preprocessing.StandardScaler.html) instance is suggested, scaling each feature to mean 0 and standard deviation 1.\n",
    "- For these classes, you can make use of the `.fit_transform()` method to both fit a procedure to the data as well as apply the transformation to the data at the same time. Don't forget to keep the fit sklearn objects handy, since you'll be applying them to the customer demographics data towards the end of the project."
   ]
  },
  {
   "cell_type": "code",
   "execution_count": 29,
   "metadata": {},
   "outputs": [],
   "source": [
    "# If you've not yet cleaned the dataset of all NaN values, then investigate and\n",
    "# do that now.\n",
    "test = pd.read_csv(\"Udacity_AZDIAS_Subset.csv\", sep=\";\")\n",
    "test_cleaned = clean_data(test)"
   ]
  },
  {
   "cell_type": "code",
   "execution_count": 30,
   "metadata": {},
   "outputs": [
    {
     "data": {
      "text/plain": [
       "True"
      ]
     },
     "execution_count": 30,
     "metadata": {},
     "output_type": "execute_result"
    }
   ],
   "source": [
    "# making sure that the clean function and what was done individually, get the same result.\n",
    "azdias_fullinfo.equals(test_cleaned)"
   ]
  },
  {
   "cell_type": "code",
   "execution_count": 31,
   "metadata": {},
   "outputs": [
    {
     "data": {
      "text/plain": [
       "Index(['ALTERSKATEGORIE_GROB', 'ANREDE_KZ', 'FINANZ_MINIMALIST',\n",
       "       'FINANZ_SPARER', 'FINANZ_VORSORGER', 'FINANZ_ANLEGER',\n",
       "       'FINANZ_UNAUFFAELLIGER', 'FINANZ_HAUSBAUER', 'GREEN_AVANTGARDE',\n",
       "       'HEALTH_TYP',\n",
       "       ...\n",
       "       'CAMEO_DEU_2015_39', 'CAMEO_DEU_2015_40', 'CAMEO_DEU_2015_41',\n",
       "       'CAMEO_DEU_2015_42', 'CAMEO_DEU_2015_43', 'CAMEO_DEU_2015_44',\n",
       "       'MovementType', 'AgeGeneration', 'LifeStage', 'WealthType'],\n",
       "      dtype='object', length=193)"
      ]
     },
     "execution_count": 31,
     "metadata": {},
     "output_type": "execute_result"
    }
   ],
   "source": [
    "azdias_fullinfo.columns"
   ]
  },
  {
   "cell_type": "code",
   "execution_count": 32,
   "metadata": {},
   "outputs": [
    {
     "data": {
      "text/html": [
       "<div>\n",
       "<style scoped>\n",
       "    .dataframe tbody tr th:only-of-type {\n",
       "        vertical-align: middle;\n",
       "    }\n",
       "\n",
       "    .dataframe tbody tr th {\n",
       "        vertical-align: top;\n",
       "    }\n",
       "\n",
       "    .dataframe thead th {\n",
       "        text-align: right;\n",
       "    }\n",
       "</style>\n",
       "<table border=\"1\" class=\"dataframe\">\n",
       "  <thead>\n",
       "    <tr style=\"text-align: right;\">\n",
       "      <th></th>\n",
       "      <th>ALTERSKATEGORIE_GROB</th>\n",
       "      <th>ANREDE_KZ</th>\n",
       "      <th>FINANZ_MINIMALIST</th>\n",
       "      <th>FINANZ_SPARER</th>\n",
       "      <th>FINANZ_VORSORGER</th>\n",
       "      <th>FINANZ_ANLEGER</th>\n",
       "      <th>FINANZ_UNAUFFAELLIGER</th>\n",
       "      <th>FINANZ_HAUSBAUER</th>\n",
       "      <th>GREEN_AVANTGARDE</th>\n",
       "      <th>HEALTH_TYP</th>\n",
       "      <th>...</th>\n",
       "      <th>CAMEO_DEU_2015_39</th>\n",
       "      <th>CAMEO_DEU_2015_40</th>\n",
       "      <th>CAMEO_DEU_2015_41</th>\n",
       "      <th>CAMEO_DEU_2015_42</th>\n",
       "      <th>CAMEO_DEU_2015_43</th>\n",
       "      <th>CAMEO_DEU_2015_44</th>\n",
       "      <th>MovementType</th>\n",
       "      <th>AgeGeneration</th>\n",
       "      <th>LifeStage</th>\n",
       "      <th>WealthType</th>\n",
       "    </tr>\n",
       "  </thead>\n",
       "  <tbody>\n",
       "    <tr>\n",
       "      <th>count</th>\n",
       "      <td>6.232090e+05</td>\n",
       "      <td>6.232090e+05</td>\n",
       "      <td>6.232090e+05</td>\n",
       "      <td>6.232090e+05</td>\n",
       "      <td>6.232090e+05</td>\n",
       "      <td>6.232090e+05</td>\n",
       "      <td>6.232090e+05</td>\n",
       "      <td>6.232090e+05</td>\n",
       "      <td>6.232090e+05</td>\n",
       "      <td>6.232090e+05</td>\n",
       "      <td>...</td>\n",
       "      <td>6.232090e+05</td>\n",
       "      <td>6.232090e+05</td>\n",
       "      <td>6.232090e+05</td>\n",
       "      <td>6.232090e+05</td>\n",
       "      <td>6.232090e+05</td>\n",
       "      <td>6.232090e+05</td>\n",
       "      <td>6.232090e+05</td>\n",
       "      <td>6.232090e+05</td>\n",
       "      <td>6.232090e+05</td>\n",
       "      <td>6.232090e+05</td>\n",
       "    </tr>\n",
       "    <tr>\n",
       "      <th>mean</th>\n",
       "      <td>9.230537e-17</td>\n",
       "      <td>-2.158277e-17</td>\n",
       "      <td>1.261674e-16</td>\n",
       "      <td>1.374262e-16</td>\n",
       "      <td>1.478300e-16</td>\n",
       "      <td>3.104019e-18</td>\n",
       "      <td>7.332212e-17</td>\n",
       "      <td>1.068934e-16</td>\n",
       "      <td>8.841751e-18</td>\n",
       "      <td>-2.007779e-16</td>\n",
       "      <td>...</td>\n",
       "      <td>-3.897553e-17</td>\n",
       "      <td>-1.732721e-17</td>\n",
       "      <td>-6.894400e-17</td>\n",
       "      <td>-2.069346e-17</td>\n",
       "      <td>-6.963948e-17</td>\n",
       "      <td>-1.406927e-17</td>\n",
       "      <td>8.841751e-18</td>\n",
       "      <td>-3.722087e-16</td>\n",
       "      <td>-3.490953e-17</td>\n",
       "      <td>1.881224e-18</td>\n",
       "    </tr>\n",
       "    <tr>\n",
       "      <th>std</th>\n",
       "      <td>1.000001e+00</td>\n",
       "      <td>1.000001e+00</td>\n",
       "      <td>1.000001e+00</td>\n",
       "      <td>1.000001e+00</td>\n",
       "      <td>1.000001e+00</td>\n",
       "      <td>1.000001e+00</td>\n",
       "      <td>1.000001e+00</td>\n",
       "      <td>1.000001e+00</td>\n",
       "      <td>1.000001e+00</td>\n",
       "      <td>1.000001e+00</td>\n",
       "      <td>...</td>\n",
       "      <td>1.000001e+00</td>\n",
       "      <td>1.000001e+00</td>\n",
       "      <td>1.000001e+00</td>\n",
       "      <td>1.000001e+00</td>\n",
       "      <td>1.000001e+00</td>\n",
       "      <td>1.000001e+00</td>\n",
       "      <td>1.000001e+00</td>\n",
       "      <td>1.000001e+00</td>\n",
       "      <td>1.000001e+00</td>\n",
       "      <td>1.000001e+00</td>\n",
       "    </tr>\n",
       "    <tr>\n",
       "      <th>min</th>\n",
       "      <td>-1.746291e+00</td>\n",
       "      <td>-1.022678e+00</td>\n",
       "      <td>-1.512224e+00</td>\n",
       "      <td>-1.141401e+00</td>\n",
       "      <td>-1.765051e+00</td>\n",
       "      <td>-1.221857e+00</td>\n",
       "      <td>-1.139028e+00</td>\n",
       "      <td>-1.588887e+00</td>\n",
       "      <td>-5.536702e-01</td>\n",
       "      <td>-1.591638e+00</td>\n",
       "      <td>...</td>\n",
       "      <td>-1.574290e-01</td>\n",
       "      <td>-1.658182e-01</td>\n",
       "      <td>-1.967734e-01</td>\n",
       "      <td>-1.850070e-01</td>\n",
       "      <td>-1.966193e-01</td>\n",
       "      <td>-7.586123e-02</td>\n",
       "      <td>-5.536702e-01</td>\n",
       "      <td>-2.280180e+00</td>\n",
       "      <td>-1.251108e+00</td>\n",
       "      <td>-1.595957e+00</td>\n",
       "    </tr>\n",
       "    <tr>\n",
       "      <th>25%</th>\n",
       "      <td>-7.720918e-01</td>\n",
       "      <td>-1.022678e+00</td>\n",
       "      <td>-7.773472e-01</td>\n",
       "      <td>-1.141401e+00</td>\n",
       "      <td>-1.045042e+00</td>\n",
       "      <td>-1.221857e+00</td>\n",
       "      <td>-1.139028e+00</td>\n",
       "      <td>-8.565448e-01</td>\n",
       "      <td>-5.536702e-01</td>\n",
       "      <td>-2.734958e-01</td>\n",
       "      <td>...</td>\n",
       "      <td>-1.574290e-01</td>\n",
       "      <td>-1.658182e-01</td>\n",
       "      <td>-1.967734e-01</td>\n",
       "      <td>-1.850070e-01</td>\n",
       "      <td>-1.966193e-01</td>\n",
       "      <td>-7.586123e-02</td>\n",
       "      <td>-5.536702e-01</td>\n",
       "      <td>-9.023264e-01</td>\n",
       "      <td>-1.251108e+00</td>\n",
       "      <td>-9.099974e-01</td>\n",
       "    </tr>\n",
       "    <tr>\n",
       "      <th>50%</th>\n",
       "      <td>2.021075e-01</td>\n",
       "      <td>9.778248e-01</td>\n",
       "      <td>-4.247059e-02</td>\n",
       "      <td>2.198282e-01</td>\n",
       "      <td>3.949756e-01</td>\n",
       "      <td>1.586008e-01</td>\n",
       "      <td>-4.103275e-01</td>\n",
       "      <td>-1.242026e-01</td>\n",
       "      <td>-5.536702e-01</td>\n",
       "      <td>-2.734958e-01</td>\n",
       "      <td>...</td>\n",
       "      <td>-1.574290e-01</td>\n",
       "      <td>-1.658182e-01</td>\n",
       "      <td>-1.967734e-01</td>\n",
       "      <td>-1.850070e-01</td>\n",
       "      <td>-1.966193e-01</td>\n",
       "      <td>-7.586123e-02</td>\n",
       "      <td>-5.536702e-01</td>\n",
       "      <td>-2.133995e-01</td>\n",
       "      <td>8.284537e-02</td>\n",
       "      <td>4.619220e-01</td>\n",
       "    </tr>\n",
       "    <tr>\n",
       "      <th>75%</th>\n",
       "      <td>1.176307e+00</td>\n",
       "      <td>9.778248e-01</td>\n",
       "      <td>6.924060e-01</td>\n",
       "      <td>9.004431e-01</td>\n",
       "      <td>1.114984e+00</td>\n",
       "      <td>8.488295e-01</td>\n",
       "      <td>1.047073e+00</td>\n",
       "      <td>6.081396e-01</td>\n",
       "      <td>-5.536702e-01</td>\n",
       "      <td>1.044647e+00</td>\n",
       "      <td>...</td>\n",
       "      <td>-1.574290e-01</td>\n",
       "      <td>-1.658182e-01</td>\n",
       "      <td>-1.967734e-01</td>\n",
       "      <td>-1.850070e-01</td>\n",
       "      <td>-1.966193e-01</td>\n",
       "      <td>-7.586123e-02</td>\n",
       "      <td>-5.536702e-01</td>\n",
       "      <td>1.164454e+00</td>\n",
       "      <td>7.498218e-01</td>\n",
       "      <td>1.147882e+00</td>\n",
       "    </tr>\n",
       "    <tr>\n",
       "      <th>max</th>\n",
       "      <td>1.176307e+00</td>\n",
       "      <td>9.778248e-01</td>\n",
       "      <td>1.427283e+00</td>\n",
       "      <td>1.581058e+00</td>\n",
       "      <td>1.114984e+00</td>\n",
       "      <td>1.539058e+00</td>\n",
       "      <td>1.775773e+00</td>\n",
       "      <td>1.340482e+00</td>\n",
       "      <td>1.806129e+00</td>\n",
       "      <td>1.044647e+00</td>\n",
       "      <td>...</td>\n",
       "      <td>6.352070e+00</td>\n",
       "      <td>6.030702e+00</td>\n",
       "      <td>5.081989e+00</td>\n",
       "      <td>5.405201e+00</td>\n",
       "      <td>5.085970e+00</td>\n",
       "      <td>1.318196e+01</td>\n",
       "      <td>1.806129e+00</td>\n",
       "      <td>1.164454e+00</td>\n",
       "      <td>1.416798e+00</td>\n",
       "      <td>1.147882e+00</td>\n",
       "    </tr>\n",
       "  </tbody>\n",
       "</table>\n",
       "<p>8 rows × 193 columns</p>\n",
       "</div>"
      ],
      "text/plain": [
       "       ALTERSKATEGORIE_GROB     ANREDE_KZ  FINANZ_MINIMALIST  FINANZ_SPARER  \\\n",
       "count          6.232090e+05  6.232090e+05       6.232090e+05   6.232090e+05   \n",
       "mean           9.230537e-17 -2.158277e-17       1.261674e-16   1.374262e-16   \n",
       "std            1.000001e+00  1.000001e+00       1.000001e+00   1.000001e+00   \n",
       "min           -1.746291e+00 -1.022678e+00      -1.512224e+00  -1.141401e+00   \n",
       "25%           -7.720918e-01 -1.022678e+00      -7.773472e-01  -1.141401e+00   \n",
       "50%            2.021075e-01  9.778248e-01      -4.247059e-02   2.198282e-01   \n",
       "75%            1.176307e+00  9.778248e-01       6.924060e-01   9.004431e-01   \n",
       "max            1.176307e+00  9.778248e-01       1.427283e+00   1.581058e+00   \n",
       "\n",
       "       FINANZ_VORSORGER  FINANZ_ANLEGER  FINANZ_UNAUFFAELLIGER  \\\n",
       "count      6.232090e+05    6.232090e+05           6.232090e+05   \n",
       "mean       1.478300e-16    3.104019e-18           7.332212e-17   \n",
       "std        1.000001e+00    1.000001e+00           1.000001e+00   \n",
       "min       -1.765051e+00   -1.221857e+00          -1.139028e+00   \n",
       "25%       -1.045042e+00   -1.221857e+00          -1.139028e+00   \n",
       "50%        3.949756e-01    1.586008e-01          -4.103275e-01   \n",
       "75%        1.114984e+00    8.488295e-01           1.047073e+00   \n",
       "max        1.114984e+00    1.539058e+00           1.775773e+00   \n",
       "\n",
       "       FINANZ_HAUSBAUER  GREEN_AVANTGARDE    HEALTH_TYP      ...       \\\n",
       "count      6.232090e+05      6.232090e+05  6.232090e+05      ...        \n",
       "mean       1.068934e-16      8.841751e-18 -2.007779e-16      ...        \n",
       "std        1.000001e+00      1.000001e+00  1.000001e+00      ...        \n",
       "min       -1.588887e+00     -5.536702e-01 -1.591638e+00      ...        \n",
       "25%       -8.565448e-01     -5.536702e-01 -2.734958e-01      ...        \n",
       "50%       -1.242026e-01     -5.536702e-01 -2.734958e-01      ...        \n",
       "75%        6.081396e-01     -5.536702e-01  1.044647e+00      ...        \n",
       "max        1.340482e+00      1.806129e+00  1.044647e+00      ...        \n",
       "\n",
       "       CAMEO_DEU_2015_39  CAMEO_DEU_2015_40  CAMEO_DEU_2015_41  \\\n",
       "count       6.232090e+05       6.232090e+05       6.232090e+05   \n",
       "mean       -3.897553e-17      -1.732721e-17      -6.894400e-17   \n",
       "std         1.000001e+00       1.000001e+00       1.000001e+00   \n",
       "min        -1.574290e-01      -1.658182e-01      -1.967734e-01   \n",
       "25%        -1.574290e-01      -1.658182e-01      -1.967734e-01   \n",
       "50%        -1.574290e-01      -1.658182e-01      -1.967734e-01   \n",
       "75%        -1.574290e-01      -1.658182e-01      -1.967734e-01   \n",
       "max         6.352070e+00       6.030702e+00       5.081989e+00   \n",
       "\n",
       "       CAMEO_DEU_2015_42  CAMEO_DEU_2015_43  CAMEO_DEU_2015_44  MovementType  \\\n",
       "count       6.232090e+05       6.232090e+05       6.232090e+05  6.232090e+05   \n",
       "mean       -2.069346e-17      -6.963948e-17      -1.406927e-17  8.841751e-18   \n",
       "std         1.000001e+00       1.000001e+00       1.000001e+00  1.000001e+00   \n",
       "min        -1.850070e-01      -1.966193e-01      -7.586123e-02 -5.536702e-01   \n",
       "25%        -1.850070e-01      -1.966193e-01      -7.586123e-02 -5.536702e-01   \n",
       "50%        -1.850070e-01      -1.966193e-01      -7.586123e-02 -5.536702e-01   \n",
       "75%        -1.850070e-01      -1.966193e-01      -7.586123e-02 -5.536702e-01   \n",
       "max         5.405201e+00       5.085970e+00       1.318196e+01  1.806129e+00   \n",
       "\n",
       "       AgeGeneration     LifeStage    WealthType  \n",
       "count   6.232090e+05  6.232090e+05  6.232090e+05  \n",
       "mean   -3.722087e-16 -3.490953e-17  1.881224e-18  \n",
       "std     1.000001e+00  1.000001e+00  1.000001e+00  \n",
       "min    -2.280180e+00 -1.251108e+00 -1.595957e+00  \n",
       "25%    -9.023264e-01 -1.251108e+00 -9.099974e-01  \n",
       "50%    -2.133995e-01  8.284537e-02  4.619220e-01  \n",
       "75%     1.164454e+00  7.498218e-01  1.147882e+00  \n",
       "max     1.164454e+00  1.416798e+00  1.147882e+00  \n",
       "\n",
       "[8 rows x 193 columns]"
      ]
     },
     "execution_count": 32,
     "metadata": {},
     "output_type": "execute_result"
    }
   ],
   "source": [
    "# Apply feature scaling to the general population demographics data.\n",
    "scaler = StandardScaler().fit(azdias_fullinfo)\n",
    "azdias_fullinfo_scaled = pd.DataFrame(scaler.transform(azdias_fullinfo), columns=azdias_fullinfo.columns)\n",
    "azdias_fullinfo_scaled.describe()"
   ]
  },
  {
   "cell_type": "markdown",
   "metadata": {},
   "source": [
    "### Discussion 2.1: Apply Feature Scaling\n",
    "\n",
    "At this point, all of the data has been cleaned.\n",
    "\n",
    "This means:\n",
    "* no missing data\n",
    "* all categorical data is one-hot-encoded\n",
    "* all data is now numerical (either binary, ordinal or float)\n",
    "\n",
    "The data is then z-scaled so that the choice of units does not impact on the pca algo or clustering algo's."
   ]
  },
  {
   "cell_type": "markdown",
   "metadata": {},
   "source": [
    "### Step 2.2: Perform Dimensionality Reduction\n",
    "\n",
    "On your scaled data, you are now ready to apply dimensionality reduction techniques.\n",
    "\n",
    "- Use sklearn's [PCA](http://scikit-learn.org/stable/modules/generated/sklearn.decomposition.PCA.html) class to apply principal component analysis on the data, thus finding the vectors of maximal variance in the data. To start, you should not set any parameters (so all components are computed) or set a number of components that is at least half the number of features (so there's enough features to see the general trend in variability).\n",
    "- Check out the ratio of variance explained by each principal component as well as the cumulative variance explained. Try plotting the cumulative or sequential values using matplotlib's [`plot()`](https://matplotlib.org/api/_as_gen/matplotlib.pyplot.plot.html) function. Based on what you find, select a value for the number of transformed features you'll retain for the clustering part of the project.\n",
    "- Once you've made a choice for the number of components to keep, make sure you re-fit a PCA instance to perform the decided-on transformation."
   ]
  },
  {
   "cell_type": "code",
   "execution_count": 33,
   "metadata": {},
   "outputs": [
    {
     "data": {
      "text/plain": [
       "PCA(copy=True, iterated_power='auto', n_components=None, random_state=None,\n",
       "  svd_solver='auto', tol=0.0, whiten=False)"
      ]
     },
     "execution_count": 33,
     "metadata": {},
     "output_type": "execute_result"
    }
   ],
   "source": [
    "# Apply PCA to the data.\n",
    "pca = PCA()\n",
    "pca.fit(azdias_fullinfo_scaled)\n"
   ]
  },
  {
   "cell_type": "code",
   "execution_count": 34,
   "metadata": {},
   "outputs": [
    {
     "data": {
      "image/png": "[encoded data removed]",
      "text/plain": [
       "<matplotlib.figure.Figure at 0x7f6d088ed390>"
      ]
     },
     "metadata": {
      "needs_background": "light"
     },
     "output_type": "display_data"
    },
    {
     "data": {
      "image/png": "[encoded data removed]",
      "text/plain": [
       "<matplotlib.figure.Figure at 0x7f6d0c943320>"
      ]
     },
     "metadata": {
      "needs_background": "light"
     },
     "output_type": "display_data"
    }
   ],
   "source": [
    "# Investigate the variance accounted for by each principal component.\n",
    "cul_plt = plt.plot(pca.explained_variance_ratio_.cumsum())\n",
    "plt.show()\n",
    "individual_var_ratio_plt = plt.plot(pca.explained_variance_ratio_)"
   ]
  },
  {
   "cell_type": "code",
   "execution_count": 35,
   "metadata": {},
   "outputs": [],
   "source": [
    "# Re-apply PCA to the data while selecting for number of components to retain.\n",
    "\n",
    "# refitting on 75 components\n",
    "pca = PCA(n_components=75)\n",
    "pca.fit(azdias_fullinfo_scaled)\n",
    "pca.explained_variance_ratio_.cumsum()[-1]\n",
    "\n",
    "azdias_pca = pca.transform(azdias_fullinfo_scaled)\n",
    "\n"
   ]
  },
  {
   "cell_type": "markdown",
   "metadata": {},
   "source": [
    "### Discussion 2.2: Perform Dimensionality Reduction\n",
    "\n",
    "From the culumulative plot above, you can see there is a near linear increase in explained_variance_ratio_ betweeen components 25 and 100, after that the marginal increase starts to go down.\n",
    "\n",
    "i'm retaining 75 features and this explains 76% of the variability within the data. i think this is a good balance between explanability and compactness of the data. I can revisit this decision depending on the performance of later steps"
   ]
  },
  {
   "cell_type": "markdown",
   "metadata": {},
   "source": [
    "### Step 2.3: Interpret Principal Components\n",
    "\n",
    "Now that we have our transformed principal components, it's a nice idea to check out the weight of each variable on the first few components to see if they can be interpreted in some fashion.\n",
    "\n",
    "As a reminder, each principal component is a unit vector that points in the direction of highest variance (after accounting for the variance captured by earlier principal components). The further a weight is from zero, the more the principal component is in the direction of the corresponding feature. If two features have large weights of the same sign (both positive or both negative), then increases in one tend expect to be associated with increases in the other. To contrast, features with different signs can be expected to show a negative correlation: increases in one variable should result in a decrease in the other.\n",
    "\n",
    "- To investigate the features, you should map each weight to their corresponding feature name, then sort the features according to weight. The most interesting features for each principal component, then, will be those at the beginning and end of the sorted list. Use the data dictionary document to help you understand these most prominent features, their relationships, and what a positive or negative value on the principal component might indicate.\n",
    "- You should investigate and interpret feature associations from the first three principal components in this substep. To help facilitate this, you should write a function that you can call at any time to print the sorted list of feature weights, for the *i*-th principal component. This might come in handy in the next step of the project, when you interpret the tendencies of the discovered clusters."
   ]
  },
  {
   "cell_type": "code",
   "execution_count": 36,
   "metadata": {},
   "outputs": [],
   "source": [
    "# Map weights for the first principal component to corresponding feature names\n",
    "# and then print the linked values, sorted by weight.\n",
    "# HINT: Try defining a function here or in a new cell that you can reuse in the\n",
    "# other cells.\n",
    "\n",
    "def PrintTopXBottomXWeights(component, topk=5):\n",
    "    component_weights_df = pd.DataFrame(pca.components_, columns=azdias_fullinfo_scaled.columns.values)\n",
    "    sorted_component_weight = component_weights_df.loc[component].sort_values()\n",
    "    print('Top {}'.format(topk))\n",
    "    print(sorted_component_weight[:topk])\n",
    "    print('Bottom {}:'.format(topk))\n",
    "    print(sorted_component_weight[-topk:])\n"
   ]
  },
  {
   "cell_type": "code",
   "execution_count": 37,
   "metadata": {},
   "outputs": [
    {
     "name": "stdout",
     "output_type": "stream",
     "text": [
      "Top 3\n",
      "MOBI_REGIO          -0.197577\n",
      "KBA05_ANTG1         -0.185885\n",
      "FINANZ_MINIMALIST   -0.182340\n",
      "Name: 0, dtype: float64\n",
      "Bottom 3:\n",
      "WealthType            0.174693\n",
      "HH_EINKOMMEN_SCORE    0.175287\n",
      "LP_STATUS_GROB_1      0.185891\n",
      "Name: 0, dtype: float64\n"
     ]
    }
   ],
   "source": [
    "PrintTopXBottomXWeights(0, 3)"
   ]
  },
  {
   "cell_type": "code",
   "execution_count": 38,
   "metadata": {},
   "outputs": [
    {
     "name": "stdout",
     "output_type": "stream",
     "text": [
      "Top 3\n",
      "AgeGeneration   -0.235185\n",
      "FINANZ_SPARER   -0.223159\n",
      "SEMIO_REL       -0.220556\n",
      "Name: 1, dtype: float64\n",
      "Bottom 3:\n",
      "ZABEOTYP_3              0.199489\n",
      "FINANZ_VORSORGER        0.212358\n",
      "ALTERSKATEGORIE_GROB    0.233883\n",
      "Name: 1, dtype: float64\n"
     ]
    }
   ],
   "source": [
    "# Map weights for the second principal component to corresponding feature names\n",
    "# and then print the linked values, sorted by weight.\n",
    "PrintTopXBottomXWeights(1, 3)\n"
   ]
  },
  {
   "cell_type": "code",
   "execution_count": 39,
   "metadata": {},
   "outputs": [
    {
     "name": "stdout",
     "output_type": "stream",
     "text": [
      "Top 3\n",
      "ANREDE_KZ    -0.332941\n",
      "SEMIO_KAEM   -0.301971\n",
      "SEMIO_DOM    -0.268340\n",
      "Name: 2, dtype: float64\n",
      "Bottom 3:\n",
      "SEMIO_SOZ     0.251166\n",
      "SEMIO_FAM     0.251401\n",
      "SEMIO_VERT    0.314025\n",
      "Name: 2, dtype: float64\n"
     ]
    }
   ],
   "source": [
    "# Map weights for the third principal component to corresponding feature names\n",
    "# and then print the linked values, sorted by weight.\n",
    "PrintTopXBottomXWeights(2, 3)\n"
   ]
  },
  {
   "cell_type": "markdown",
   "metadata": {},
   "source": [
    "### Discussion 2.3: Interpret Principal Components\n",
    "\n",
    "The 1st component explains rouhgly 8% of the variability within the data. \n",
    "In that component then, MOBI_REGIO is weighted the heaviest, with a negative weighting of -0.19. This feature related to the level of Movement patterns.\n",
    "the 2nd heaviest weighting is then KBA05_ANTG1, with a negative weighting of -0.185, which is the \"Number of 1-2 family houses in the microcell\"\n",
    "and the 3rd is , which is the a measure of Financial typology relating to \"low financial interest\".\n",
    "\n",
    "in these cases, the weights a negative, meaning that the correlation of these features compared to the other features is negative.\n",
    "\n",
    "for the 2nd component, AgeGeneration has the heaviest weighting, and again its negative.\n",
    "In this case, the 2nd component returns an index that retains most of the variability, when the variability from the 1st component has already been taken into consideration.\n",
    "\n",
    "for the 3rd component, ANREDE_KZ or Gender has the highest weighting.\n",
    "\n"
   ]
  },
  {
   "cell_type": "markdown",
   "metadata": {},
   "source": [
    "## Step 3: Clustering\n",
    "\n",
    "### Step 3.1: Apply Clustering to General Population\n",
    "\n",
    "You've assessed and cleaned the demographics data, then scaled and transformed them. Now, it's time to see how the data clusters in the principal components space. In this substep, you will apply k-means clustering to the dataset and use the average within-cluster distances from each point to their assigned cluster's centroid to decide on a number of clusters to keep.\n",
    "\n",
    "- Use sklearn's [KMeans](http://scikit-learn.org/stable/modules/generated/sklearn.cluster.KMeans.html#sklearn.cluster.KMeans) class to perform k-means clustering on the PCA-transformed data.\n",
    "- Then, compute the average difference from each point to its assigned cluster's center. **Hint**: The KMeans object's `.score()` method might be useful here, but note that in sklearn, scores tend to be defined so that larger is better. Try applying it to a small, toy dataset, or use an internet search to help your understanding.\n",
    "- Perform the above two steps for a number of different cluster counts. You can then see how the average distance decreases with an increasing number of clusters. However, each additional cluster provides a smaller net benefit. Use this fact to select a final number of clusters in which to group the data. **Warning**: because of the large size of the dataset, it can take a long time for the algorithm to resolve. The more clusters to fit, the longer the algorithm will take. You should test for cluster counts through at least 10 clusters to get the full picture, but you shouldn't need to test for a number of clusters above about 30.\n",
    "- Once you've selected a final number of clusters to use, re-fit a KMeans instance to perform the clustering operation. Make sure that you also obtain the cluster assignments for the general demographics data, since you'll be using them in the final Step 3.3."
   ]
  },
  {
   "cell_type": "code",
   "execution_count": 40,
   "metadata": {},
   "outputs": [],
   "source": [
    "\n",
    "# Over a number of different cluster counts...\n",
    "score_list = []\n",
    "n_cluster_list = [i for i in range(1, 30, 3)]\n",
    "for i in n_cluster_list:\n",
    "    # run k-means clustering on the data and...\n",
    "    kmeans = KMeans(n_clusters=i).fit(azdias_pca[:100000, :])\n",
    "\n",
    "    # compute the average within-cluster distances.\n",
    "    score = kmeans.score(azdias_pca[:100000, :])\n",
    "    score_list.append(score*-1)\n",
    "\n",
    "    "
   ]
  },
  {
   "cell_type": "code",
   "execution_count": 41,
   "metadata": {},
   "outputs": [
    {
     "data": {
      "text/plain": [
       "[<matplotlib.lines.Line2D at 0x7f6d0c934a90>]"
      ]
     },
     "execution_count": 41,
     "metadata": {},
     "output_type": "execute_result"
    },
    {
     "data": {
      "image/png": "[encoded data removed]",
      "text/plain": [
       "<matplotlib.figure.Figure at 0x7f6d09640ef0>"
      ]
     },
     "metadata": {
      "needs_background": "light"
     },
     "output_type": "display_data"
    }
   ],
   "source": [
    "# Investigate the change in within-cluster distance across number of clusters.\n",
    "# HINT: Use matplotlib's plot function to visualize this relationship.\n",
    "fig, ax = plt.subplots()\n",
    "ax.plot(n_cluster_list, score_list)\n"
   ]
  },
  {
   "cell_type": "code",
   "execution_count": 42,
   "metadata": {},
   "outputs": [],
   "source": [
    "# Re-fit the k-means model with the selected number of clusters and obtain\n",
    "# cluster predictions for the general population demographics data.\n",
    "kmeans = KMeans(n_clusters=7).fit(azdias_pca)\n"
   ]
  },
  {
   "cell_type": "code",
   "execution_count": 43,
   "metadata": {},
   "outputs": [],
   "source": [
    "predictions = kmeans.predict(azdias_pca)"
   ]
  },
  {
   "cell_type": "markdown",
   "metadata": {},
   "source": [
    "### Discussion 3.1: Apply Clustering to General Population\n",
    "\n",
    "Using the elbow technique, i choose a k value of 7 to fit the kmeans algorithm.\n",
    "Theres no exact same to get a right answer here, but we could look into the data further to see if we can gain some intuition about what these 7 clusters might represent."
   ]
  },
  {
   "cell_type": "code",
   "execution_count": 44,
   "metadata": {},
   "outputs": [
    {
     "data": {
      "text/plain": [
       "(array([0, 1, 2, 3, 4, 5, 6], dtype=int32),\n",
       " array([ 98063,  90671, 104497,  98408, 113116,  90160,  28294]))"
      ]
     },
     "execution_count": 44,
     "metadata": {},
     "output_type": "execute_result"
    }
   ],
   "source": [
    "np.unique(predictions, return_counts = True) "
   ]
  },
  {
   "cell_type": "markdown",
   "metadata": {},
   "source": [
    "### Step 3.2: Apply All Steps to the Customer Data\n",
    "\n",
    "Now that you have clusters and cluster centers for the general population, it's time to see how the customer data maps on to those clusters. Take care to not confuse this for re-fitting all of the models to the customer data. Instead, you're going to use the fits from the general population to clean, transform, and cluster the customer data. In the last step of the project, you will interpret how the general population fits apply to the customer data.\n",
    "\n",
    "- Don't forget when loading in the customers data, that it is semicolon (`;`) delimited.\n",
    "- Apply the same feature wrangling, selection, and engineering steps to the customer demographics using the `clean_data()` function you created earlier. (You can assume that the customer demographics data has similar meaning behind missing data patterns as the general demographics data.)\n",
    "- Use the sklearn objects from the general demographics data, and apply their transformations to the customers data. That is, you should not be using a `.fit()` or `.fit_transform()` method to re-fit the old objects, nor should you be creating new sklearn objects! Carry the data through the feature scaling, PCA, and clustering steps, obtaining cluster assignments for all of the data in the customer demographics data."
   ]
  },
  {
   "cell_type": "code",
   "execution_count": 45,
   "metadata": {},
   "outputs": [],
   "source": [
    "# Load in the customer demographics data.\n",
    "customers = pd.read_csv('Udacity_CUSTOMERS_Subset.csv', sep=';')"
   ]
  },
  {
   "cell_type": "code",
   "execution_count": 46,
   "metadata": {},
   "outputs": [],
   "source": [
    "# Apply preprocessing, feature transformation, and clustering from the general\n",
    "# demographics onto the customer data, obtaining cluster predictions for the\n",
    "# customer demographics data.\n",
    "customers_clean = clean_data(customers)\n",
    "customers_scaled = scaler.transform(customers_clean)\n",
    "customers_pca = pca.transform(customers_scaled)\n",
    "\n",
    "# customer predictions\n",
    "customer_predictions = kmeans.predict(customers_pca)\n"
   ]
  },
  {
   "cell_type": "code",
   "execution_count": 47,
   "metadata": {},
   "outputs": [
    {
     "data": {
      "text/plain": [
       "True"
      ]
     },
     "execution_count": 47,
     "metadata": {},
     "output_type": "execute_result"
    }
   ],
   "source": [
    "# sense check for any missing data\n",
    "np.all(customers_clean.isnull().sum() == 0)"
   ]
  },
  {
   "cell_type": "markdown",
   "metadata": {},
   "source": [
    "### Step 3.3: Compare Customer Data to Demographics Data\n",
    "\n",
    "At this point, you have clustered data based on demographics of the general population of Germany, and seen how the customer data for a mail-order sales company maps onto those demographic clusters. In this final substep, you will compare the two cluster distributions to see where the strongest customer base for the company is.\n",
    "\n",
    "Consider the proportion of persons in each cluster for the general population, and the proportions for the customers. If we think the company's customer base to be universal, then the cluster assignment proportions should be fairly similar between the two. If there are only particular segments of the population that are interested in the company's products, then we should see a mismatch from one to the other. If there is a higher proportion of persons in a cluster for the customer data compared to the general population (e.g. 5% of persons are assigned to a cluster for the general population, but 15% of the customer data is closest to that cluster's centroid) then that suggests the people in that cluster to be a target audience for the company. On the other hand, the proportion of the data in a cluster being larger in the general population than the customer data (e.g. only 2% of customers closest to a population centroid that captures 6% of the data) suggests that group of persons to be outside of the target demographics.\n",
    "\n",
    "Take a look at the following points in this step:\n",
    "\n",
    "- Compute the proportion of data points in each cluster for the general population and the customer data. Visualizations will be useful here: both for the individual dataset proportions, but also to visualize the ratios in cluster representation between groups. Seaborn's [`countplot()`](https://seaborn.pydata.org/generated/seaborn.countplot.html) or [`barplot()`](https://seaborn.pydata.org/generated/seaborn.barplot.html) function could be handy.\n",
    "  - Recall the analysis you performed in step 1.1.3 of the project, where you separated out certain data points from the dataset if they had more than a specified threshold of missing values. If you found that this group was qualitatively different from the main bulk of the data, you should treat this as an additional data cluster in this analysis. Make sure that you account for the number of data points in this subset, for both the general population and customer datasets, when making your computations!\n",
    "- Which cluster or clusters are overrepresented in the customer dataset compared to the general population? Select at least one such cluster and infer what kind of people might be represented by that cluster. Use the principal component interpretations from step 2.3 or look at additional components to help you make this inference. Alternatively, you can use the `.inverse_transform()` method of the PCA and StandardScaler objects to transform centroids back to the original data space and interpret the retrieved values directly.\n",
    "- Perform a similar investigation for the underrepresented clusters. Which cluster or clusters are underrepresented in the customer dataset compared to the general population, and what kinds of people are typified by these clusters?"
   ]
  },
  {
   "cell_type": "code",
   "execution_count": 48,
   "metadata": {},
   "outputs": [
    {
     "data": {
      "text/plain": [
       "<matplotlib.axes._subplots.AxesSubplot at 0x7f6d0d449438>"
      ]
     },
     "execution_count": 48,
     "metadata": {},
     "output_type": "execute_result"
    },
    {
     "data": {
      "image/png": "[encoded data removed]",
      "text/plain": [
       "<matplotlib.figure.Figure at 0x7f6d0d449e48>"
      ]
     },
     "metadata": {
      "needs_background": "light"
     },
     "output_type": "display_data"
    }
   ],
   "source": [
    "# Compare the proportion of data in each cluster for the customer data to the\n",
    "# proportion of data in each cluster for the general population.\n",
    "pred_genpop = pd.Series(predictions, name='General Population').value_counts(normalize=True)\n",
    "pred_cust = pd.Series(customer_predictions, name='Customers').value_counts(normalize=True)\n",
    "\n",
    "comparison_df = pd.concat([pred_genpop, pred_cust], axis=1)\n",
    "\n",
    "comparison_df.plot.bar()\n"
   ]
  },
  {
   "cell_type": "code",
   "execution_count": 49,
   "metadata": {},
   "outputs": [
    {
     "data": {
      "text/plain": [
       "ALTERSKATEGORIE_GROB      3.241275\n",
       "ANREDE_KZ                 1.474450\n",
       "FINANZ_MINIMALIST         4.512234\n",
       "FINANZ_SPARER             1.817043\n",
       "FINANZ_VORSORGER          4.029005\n",
       "FINANZ_ANLEGER            1.949262\n",
       "FINANZ_UNAUFFAELLIGER     2.274021\n",
       "FINANZ_HAUSBAUER          2.015414\n",
       "GREEN_AVANTGARDE          0.994694\n",
       "HEALTH_TYP                2.086418\n",
       "LP_LEBENSPHASE_FEIN      26.015764\n",
       "LP_LEBENSPHASE_GROB       7.513676\n",
       "RETOURTYP_BK_S            3.604491\n",
       "SEMIO_SOZ                 4.186586\n",
       "SEMIO_FAM                 3.614040\n",
       "SEMIO_REL                 3.195312\n",
       "SEMIO_MAT                 3.283930\n",
       "SEMIO_VERT                4.740743\n",
       "SEMIO_LUST                5.131724\n",
       "SEMIO_ERL                 4.985255\n",
       "SEMIO_KULT                3.747676\n",
       "SEMIO_RAT                 3.268873\n",
       "SEMIO_KRIT                4.304616\n",
       "SEMIO_DOM                 4.662004\n",
       "SEMIO_KAEM                4.107130\n",
       "SEMIO_PFLICHT             3.363812\n",
       "SEMIO_TRADV               3.203394\n",
       "SOHO_KZ                   0.009681\n",
       "VERS_TYP                  1.498818\n",
       "ANZ_PERSONEN              2.349048\n",
       "                           ...    \n",
       "CAMEO_DEU_2015_19         0.008888\n",
       "CAMEO_DEU_2015_20         0.010418\n",
       "CAMEO_DEU_2015_21         0.009398\n",
       "CAMEO_DEU_2015_22         0.016469\n",
       "CAMEO_DEU_2015_23         0.006324\n",
       "CAMEO_DEU_2015_24         0.010088\n",
       "CAMEO_DEU_2015_25         0.003020\n",
       "CAMEO_DEU_2015_26         0.062722\n",
       "CAMEO_DEU_2015_27         0.013805\n",
       "CAMEO_DEU_2015_28         0.004233\n",
       "CAMEO_DEU_2015_29         0.007487\n",
       "CAMEO_DEU_2015_30         0.005354\n",
       "CAMEO_DEU_2015_31         0.016495\n",
       "CAMEO_DEU_2015_32         0.012826\n",
       "CAMEO_DEU_2015_33         0.003630\n",
       "CAMEO_DEU_2015_34         0.004384\n",
       "CAMEO_DEU_2015_35         0.002483\n",
       "CAMEO_DEU_2015_36         0.006718\n",
       "CAMEO_DEU_2015_37         0.011246\n",
       "CAMEO_DEU_2015_38         0.007730\n",
       "CAMEO_DEU_2015_39         0.003927\n",
       "CAMEO_DEU_2015_40         0.001150\n",
       "CAMEO_DEU_2015_41         0.000783\n",
       "CAMEO_DEU_2015_42         0.003413\n",
       "CAMEO_DEU_2015_43         0.002717\n",
       "CAMEO_DEU_2015_44         0.003413\n",
       "MovementType              0.994694\n",
       "AgeGeneration            67.599465\n",
       "LifeStage                 3.639788\n",
       "WealthType                2.019176\n",
       "Length: 193, dtype: float64"
      ]
     },
     "execution_count": 49,
     "metadata": {},
     "output_type": "execute_result"
    }
   ],
   "source": [
    "# What kinds of people are part of a cluster that is overrepresented in the\n",
    "# customer data compared to the general population?\n",
    "\n",
    "# people in cluster 5 are over represented in the customer data\n",
    "# so if we get the cluster centre for cluster 5, reverse out the pca & scaling, to get back to 'original' format data\n",
    "# this is the representive person for that cluster\n",
    "\n",
    "reversed_pca_cluster5 = pca.inverse_transform(kmeans.cluster_centers_[5])\n",
    "reversed_scaling5 = scaler.inverse_transform(reversed_pca_cluster5)\n",
    "average_cluster5_customer = pd.Series(reversed_scaling5, index=customers_clean.columns)\n",
    "average_cluster5_customer\n",
    "\n",
    "# they appear to be an  \n",
    "    # avantgarde person  (MovementType              0.995279)\n",
    "    # whos 67 (AgeGeneration            67.576655)\n",
    "    # 23: Prosperous Households - Families With School Age Children (LifeStage 3.635908, WealthType 2.021667\n",
    "    # whos equally male and female, with maybe a very small skewed towards male (ANREDE_KR= 1.474955)\n"
   ]
  },
  {
   "cell_type": "code",
   "execution_count": 50,
   "metadata": {},
   "outputs": [
    {
     "data": {
      "text/plain": [
       "ALTERSKATEGORIE_GROB      3.384978\n",
       "ANREDE_KZ                 1.488965\n",
       "FINANZ_MINIMALIST         4.304677\n",
       "FINANZ_SPARER             1.720503\n",
       "FINANZ_VORSORGER          4.207541\n",
       "FINANZ_ANLEGER            2.517112\n",
       "FINANZ_UNAUFFAELLIGER     1.783112\n",
       "FINANZ_HAUSBAUER          2.416634\n",
       "GREEN_AVANTGARDE          0.010116\n",
       "HEALTH_TYP                2.175045\n",
       "LP_LEBENSPHASE_FEIN      20.665365\n",
       "LP_LEBENSPHASE_GROB       6.117275\n",
       "RETOURTYP_BK_S            3.633982\n",
       "SEMIO_SOZ                 3.820814\n",
       "SEMIO_FAM                 3.470801\n",
       "SEMIO_REL                 3.040922\n",
       "SEMIO_MAT                 2.950346\n",
       "SEMIO_VERT                4.402687\n",
       "SEMIO_LUST                5.063850\n",
       "SEMIO_ERL                 5.306649\n",
       "SEMIO_KULT                3.624036\n",
       "SEMIO_RAT                 3.084848\n",
       "SEMIO_KRIT                4.599190\n",
       "SEMIO_DOM                 4.273979\n",
       "SEMIO_KAEM                3.954481\n",
       "SEMIO_PFLICHT             3.188663\n",
       "SEMIO_TRADV               2.796155\n",
       "SOHO_KZ                   0.011611\n",
       "VERS_TYP                  1.519238\n",
       "ANZ_PERSONEN              1.956939\n",
       "                           ...    \n",
       "CAMEO_DEU_2015_19         0.013896\n",
       "CAMEO_DEU_2015_20         0.023850\n",
       "CAMEO_DEU_2015_21         0.022588\n",
       "CAMEO_DEU_2015_22         0.009221\n",
       "CAMEO_DEU_2015_23         0.004590\n",
       "CAMEO_DEU_2015_24         0.006412\n",
       "CAMEO_DEU_2015_25         0.008003\n",
       "CAMEO_DEU_2015_26         0.096629\n",
       "CAMEO_DEU_2015_27         0.020031\n",
       "CAMEO_DEU_2015_28         0.007784\n",
       "CAMEO_DEU_2015_29         0.011174\n",
       "CAMEO_DEU_2015_30         0.004000\n",
       "CAMEO_DEU_2015_31         0.042366\n",
       "CAMEO_DEU_2015_32         0.017588\n",
       "CAMEO_DEU_2015_33         0.002767\n",
       "CAMEO_DEU_2015_34         0.003252\n",
       "CAMEO_DEU_2015_35         0.005358\n",
       "CAMEO_DEU_2015_36         0.011579\n",
       "CAMEO_DEU_2015_37         0.016503\n",
       "CAMEO_DEU_2015_38         0.013285\n",
       "CAMEO_DEU_2015_39        -0.000395\n",
       "CAMEO_DEU_2015_40         0.003996\n",
       "CAMEO_DEU_2015_41         0.006137\n",
       "CAMEO_DEU_2015_42         0.004944\n",
       "CAMEO_DEU_2015_43        -0.000157\n",
       "CAMEO_DEU_2015_44         0.000508\n",
       "MovementType              0.010116\n",
       "AgeGeneration            65.428661\n",
       "LifeStage                 3.313880\n",
       "WealthType                2.489022\n",
       "Length: 193, dtype: float64"
      ]
     },
     "execution_count": 50,
     "metadata": {},
     "output_type": "execute_result"
    }
   ],
   "source": [
    "# What kinds of people are part of a cluster that is underrepresented in the\n",
    "# customer data compared to the general population?\n",
    "\n",
    "reversed_pca_cluster2 = pca.inverse_transform(kmeans.cluster_centers_[2])\n",
    "reversed_scaling2 = scaler.inverse_transform(reversed_pca_cluster2)\n",
    "average_cluster2_customer = pd.Series(reversed_scaling2, index=customers_clean.columns)\n",
    "average_cluster2_customer\n",
    "\n",
    "\n",
    "\n",
    "# they appear to be an  \n",
    "    # mainstream person  (MovementType              0.051038)\n",
    "    # who was born in the late 80s (AgeGeneration            87.773032)\n",
    "    # 42: Less Affluent Households - Young Couples With Children (LifeStage 2.026593, WealthType 4.409292)\n",
    "    # whos slightly more female (ANREDE_KR= 1.582445)\n"
   ]
  },
  {
   "cell_type": "markdown",
   "metadata": {},
   "source": [
    "### Discussion 3.3: Compare Customer Data to Demographics Data\n",
    "\n",
    "The clustering analysis demonstrated that the demographics of the customers are not very well matched to the general demographics of the population.\n",
    "\n",
    "When we clustered the population into 7 different groups, we found that the distribution of customers into these 7 groups was very different that the distribution of the general population\n",
    "\n",
    "For example, there was one cluster that is just 15% of the population, but it makes up more than 35% of te customer base.\n",
    "\n",
    "This 15% of the population is therefore relatively popular with the mail-order company.\n",
    "\n",
    "There are generally:\n",
    "    * avantgarde type person\n",
    "    * born in the late 60s\n",
    "    * From a Prosperous Household, within a family of School Age Children\n",
    "    \n",
    "Another segment of the population that represents nearly 20% of the general population, makes up less than 1% of the customer base.\n",
    "\n",
    "People from this segment are generally:\n",
    "    * mainstream person\n",
    "    * who was born in the late 80s\n",
    "    * from a Less Affluent Household, that has contains Young Couples With Children\n",
    "    * and they skew slightly female\n",
    "    \n",
    "Further analysis could be performed to determine what segment/cluster is best to focus on to improve future sales."
   ]
  },
  {
   "cell_type": "markdown",
   "metadata": {},
   "source": [
    "> Congratulations on making it this far in the project! Before you finish, make sure to check through the entire notebook from top to bottom to make sure that your analysis follows a logical flow and all of your findings are documented in **Discussion** cells. Once you've checked over all of your work, you should export the notebook as an HTML document to submit for evaluation. You can do this from the menu, navigating to **File -> Download as -> HTML (.html)**. You will submit both that document and this notebook for your project submission."
   ]
  },
  {
   "cell_type": "code",
   "execution_count": null,
   "metadata": {},
   "outputs": [],
   "source": []
  }
 ],
 "metadata": {
  "kernelspec": {
   "display_name": "Python 3",
   "language": "python",
   "name": "python3"
  },
  "language_info": {
   "codemirror_mode": {
    "name": "ipython",
    "version": 3
   },
   "file_extension": ".py",
   "mimetype": "text/x-python",
   "name": "python",
   "nbconvert_exporter": "python",
   "pygments_lexer": "ipython3",
   "version": "3.6.3"
  }
 },
 "nbformat": 4,
 "nbformat_minor": 2
}
